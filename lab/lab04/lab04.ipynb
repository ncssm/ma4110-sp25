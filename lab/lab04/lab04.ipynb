{
 "cells": [
  {
   "cell_type": "code",
   "execution_count": null,
   "metadata": {
    "deletable": false,
    "editable": false
   },
   "outputs": [],
   "source": [
    "# Initialize Otter\n",
    "import otter\n",
    "grader = otter.Notebook(\"lab04.ipynb\")"
   ]
  },
  {
   "cell_type": "markdown",
   "metadata": {},
   "source": [
    "# Lab 04: Functions and Visualizations\n",
    "\n",
    "Welcome to Lab 04.\n",
    "\n",
    "This week, we'll learn about functions, table methods such as `apply`, and how to generate visualizations.\n",
    "\n",
    "Recommended Reading:\n",
    "\n",
    "* [Applying a Function to a Column](https://inferentialthinking.com/chapters/08/1/Applying_a_Function_to_a_Column.html)\n",
    "* [Visualizations](https://inferentialthinking.com/chapters/07/Visualization.html)\n",
    "\n",
    "First, set up the notebook by running the cell below."
   ]
  },
  {
   "cell_type": "code",
   "execution_count": null,
   "metadata": {
    "execution": {
     "iopub.execute_input": "2025-01-31T20:47:20.401887Z",
     "iopub.status.busy": "2025-01-31T20:47:20.401440Z",
     "iopub.status.idle": "2025-01-31T20:47:22.552905Z",
     "shell.execute_reply": "2025-01-31T20:47:22.551971Z"
    }
   },
   "outputs": [],
   "source": [
    "# Just run this cell\n",
    "from datascience import *\n",
    "import numpy as np\n",
    "\n",
    "%matplotlib inline\n",
    "import matplotlib.pyplot as plots\n",
    "plots.style.use('fivethirtyeight')\n",
    "\n",
    "from ipywidgets import interact, interactive, fixed, interact_manual\n",
    "import ipywidgets as widgets"
   ]
  },
  {
   "cell_type": "markdown",
   "metadata": {},
   "source": [
    "## 1. Defining functions\n",
    "\n",
    "Let's write a very simple function that converts a proportion to a percentage by multiplying it by 100.  For example, the value of `to_percentage(.5)` should be the number 50 (no percent sign).\n",
    "\n",
    "A function definition has a few parts."
   ]
  },
  {
   "cell_type": "markdown",
   "metadata": {},
   "source": [
    "### `def`\n",
    "It always starts with `def` (short for **def**ine):\n",
    "\n",
    "```python\n",
    "def\n",
    "```"
   ]
  },
  {
   "cell_type": "markdown",
   "metadata": {},
   "source": [
    "### Name\n",
    "Next comes the name of the function.  Like other names we've defined, it can't start with a number or contain spaces. Let's call our function `to_percentage`:\n",
    "\n",
    "```python\n",
    "    def to_percentage\n",
    "```\n"
   ]
  },
  {
   "cell_type": "markdown",
   "metadata": {},
   "source": [
    "### Signature\n",
    "Next comes something called the *signature* of the function.  This tells Python how many arguments your function should have, and what names you'll use to refer to those arguments in the function's code.  A function can have any number of arguments (including 0!). \n",
    "\n",
    "`to_percentage` should take one argument, and we'll call that argument `proportion` since it should be a proportion.\n",
    "\n",
    "```python\n",
    "    def to_percentage(proportion)\n",
    "```\n",
    "\n",
    "If we want our function to take more than one argument, we add a comma between each argument name. Note that if we had zero arguments, we'd still place the parentheses () after than name. \n",
    "\n",
    "We put a colon after the signature to tell Python the signature is complete. If you're getting a syntax error after defining a function, check to make sure you remembered the colon!\n",
    "\n",
    "```python\n",
    "    def to_percentage(proportion):\n",
    "```\n"
   ]
  },
  {
   "cell_type": "markdown",
   "metadata": {},
   "source": [
    "### Documentation\n",
    "Functions can do complicated things, so you should write an explanation of what your function does.  For small functions, this is less important, but it's a good habit to learn from the start.  Conventionally, Python functions are documented by writing an **indented** triple-quoted string:\n",
    "\n",
    "```python\n",
    "    def to_percentage(proportion):\n",
    "        \"\"\"Converts a proportion to a percentage.\"\"\"\n",
    "```\n",
    "    \n"
   ]
  },
  {
   "cell_type": "markdown",
   "metadata": {},
   "source": [
    "### Body\n",
    "Now we start writing code that runs when the function is called.  This is called the *body* of the function and every line **must be indented with a tab**.  Any lines that are *not* indented and left-aligned with the def statement is considered outside the function. \n",
    "\n",
    "Some notes about the body of the function:\n",
    "- We can write code that we would write anywhere else.  \n",
    "- We use the arguments that are defined in the function signature. We can do this because we assume that when we call the function, values are already assigned to those arguments.\n",
    "- We generally avoid referencing variables defined *outside* the function. If you would like to reference variables outside of the function, pass them into the function as arguments!\n",
    "\n",
    "Now, let's give a name to the number we multiply a proportion by to get a percentage:\n",
    "\n",
    "```python\n",
    "    def to_percentage(proportion):\n",
    "        \"\"\"Converts a proportion to a percentage.\"\"\"\n",
    "        factor = 100\n",
    "```"
   ]
  },
  {
   "cell_type": "markdown",
   "metadata": {},
   "source": [
    "### `return`\n",
    "The special instruction `return` is part of the function's body and tells Python to make the value of the function call equal to whatever comes right after `return`.  You can think of the value that is returned by the funciton as the output of the function.\n",
    "\n",
    "We want the value of `to_percentage(.5)` to be the proportion .5 times the factor 100, so we write:\n",
    "\n",
    "```python\n",
    "    def to_percentage(proportion):\n",
    "        \"\"\"Converts a proportion to a percentage.\"\"\"\n",
    "        factor = 100\n",
    "        return proportion * factor\n",
    "```\n",
    "\n",
    "`return` only makes sense in the context of a function, and **can never be used outside of a function**. `return` is always the last line of the function because Python stops executing the body of a function once it hits a `return` statement.\n",
    "\n",
    "**Note:** Using `return` inside a function tells Python what value the function evaluates to, or outputs. A function is not required to have a return statement if its job is not to evaluate to a value. For example, the `print` function, does not have a `return` value because the job of the `print` function is to prints a value out to the screen. Viewing a value on the screen and outputting a value, so it can be saved or used further, are two very different concepts."
   ]
  },
  {
   "cell_type": "markdown",
   "metadata": {
    "deletable": false,
    "editable": false
   },
   "source": [
    "#### Question 1.1.\n",
    "\n",
    "Define `to_percentage` in the cell below.  Call your function to convert the proportion .2 to a percentage.  Name that percentage `twenty_percent`.\n"
   ]
  },
  {
   "cell_type": "code",
   "execution_count": null,
   "metadata": {
    "execution": {
     "iopub.execute_input": "2025-01-31T20:47:22.556578Z",
     "iopub.status.busy": "2025-01-31T20:47:22.556160Z",
     "iopub.status.idle": "2025-01-31T20:47:22.563310Z",
     "shell.execute_reply": "2025-01-31T20:47:22.562086Z"
    },
    "tags": []
   },
   "outputs": [],
   "source": [
    "def ...\n",
    "    ``` ... ```\n",
    "    ... = ...\n",
    "    return ...\n",
    "\n",
    "twenty_percent = ...\n",
    "twenty_percent"
   ]
  },
  {
   "cell_type": "code",
   "execution_count": null,
   "metadata": {
    "deletable": false,
    "editable": false
   },
   "outputs": [],
   "source": [
    "grader.check(\"q1_1\")"
   ]
  },
  {
   "cell_type": "markdown",
   "metadata": {},
   "source": [
    "Like you’ve done with built-in functions in previous labs (`max`, `abs`, etc.), you can pass in named values as arguments to your function."
   ]
  },
  {
   "cell_type": "markdown",
   "metadata": {
    "deletable": false,
    "editable": false
   },
   "source": [
    "#### Question 1.2.\n",
    "\n",
    "Remember, functions can be used on values assigned to variables. Use the `to_percentage` function to convert the proportion named `a_proportion` (defined below) to a percentage called `a_percentage`.\n",
    "\n",
    "**Note:** You don't need to define `to_percentage` again. Like other named values, and the built in functions (like `max` and `sum`) functions stick around after you define them."
   ]
  },
  {
   "cell_type": "code",
   "execution_count": null,
   "metadata": {
    "execution": {
     "iopub.execute_input": "2025-01-31T20:47:22.655498Z",
     "iopub.status.busy": "2025-01-31T20:47:22.655230Z",
     "iopub.status.idle": "2025-01-31T20:47:22.660726Z",
     "shell.execute_reply": "2025-01-31T20:47:22.659850Z"
    },
    "tags": []
   },
   "outputs": [],
   "source": [
    "a_proportion = 2**(.5)/2\n",
    "a_percentage = ...\n",
    "a_percentage"
   ]
  },
  {
   "cell_type": "code",
   "execution_count": null,
   "metadata": {
    "deletable": false,
    "editable": false
   },
   "outputs": [],
   "source": [
    "grader.check(\"q1_2\")"
   ]
  },
  {
   "cell_type": "markdown",
   "metadata": {},
   "source": [
    "### Scope\n",
    "Here's something important about functions: the names assigned *within* a function body are only accessible within the function body. Once the function has returned, those names are gone.  So even if you created a variable called `factor` and defined `factor = 100` inside of the body of the `to_percentage` function and then called `to_percentage`, `factor` would not have a value assigned to it outside of the body of `to_percentage`. \n",
    "\n",
    "**Terminology:** We  say that the **scope** of these types of variables is **local to the function**, meaning that they are only accessible to code inside the function.\n",
    "\n",
    "For example, `factor` was assigned a value within the function `to_percentage`, and is a local variable to that function. Referencing `factor` using code that is not within the body of the `to_percentage` function will return the error shown below.\n",
    "\n",
    "![](error.png)\n",
    "\n",
    "It's as if you never had a named object called `factor`.\n",
    "\n",
    "**Note:** The variables defined in the signature of the function are considered to be created *within* the function as well, and as such are local to the function and will not be accessible outside of the function."
   ]
  },
  {
   "cell_type": "markdown",
   "metadata": {
    "deletable": false,
    "editable": false
   },
   "source": [
    "#### Question 1.3.\n",
    "\n",
    "As we've seen with built-in functions, functions can also take strings (or arrays, or tables) as arguments, and they can return those things, too.\n",
    "\n",
    "Define a function called `disemvowel`.  It should take a single string as its argument.  (You can call that argument whatever you want.)  It should return a copy of that string, but with all the characters that are vowels removed.  (In English, the vowels are the characters \"a\", \"e\", \"i\", \"o\", and \"u\".) You can use as many lines inside of the function to do this as you’d like.\n",
    "\n",
    "**Hint:** To remove all the \"a\"s from a string, you can use `that_string.replace(\"a\", \"\")`.  The `.replace` method for strings returns a new string, so you can call `replace` multiple times, one after the other. \n"
   ]
  },
  {
   "cell_type": "code",
   "execution_count": null,
   "metadata": {
    "execution": {
     "iopub.execute_input": "2025-01-31T20:47:22.679221Z",
     "iopub.status.busy": "2025-01-31T20:47:22.678968Z",
     "iopub.status.idle": "2025-01-31T20:47:22.684818Z",
     "shell.execute_reply": "2025-01-31T20:47:22.684087Z"
    },
    "tags": []
   },
   "outputs": [],
   "source": [
    "def disemvowel(a_string):\n",
    "    \"\"\"Removes all vowels from a string\"\"\"\n",
    "    ...\n",
    "\n",
    "# An example call to your function is provided.\n",
    "# It's helpful to run an example call from\n",
    "# time to time while you're writing a function,\n",
    "# to see how it currently works. Feel free to add\n",
    "# additional test calls or edit this one\n",
    "# to make sure your function works as intended\n",
    "\n",
    "disemvowel(\"can you read this without vowels?\")"
   ]
  },
  {
   "cell_type": "code",
   "execution_count": null,
   "metadata": {
    "deletable": false,
    "editable": false
   },
   "outputs": [],
   "source": [
    "grader.check(\"q1_3\")"
   ]
  },
  {
   "cell_type": "markdown",
   "metadata": {},
   "source": [
    "### Looking up information about a function\n",
    "\n",
    "If you ever forget how to use a particular function, you can use Python to help you learn more about functions. By starting a code cell with a question mark (`?`) and then the name of a function, you can run the cell to learn all about it."
   ]
  },
  {
   "cell_type": "code",
   "execution_count": null,
   "metadata": {
    "execution": {
     "iopub.execute_input": "2025-01-31T20:47:22.702996Z",
     "iopub.status.busy": "2025-01-31T20:47:22.702722Z",
     "iopub.status.idle": "2025-01-31T20:47:22.737129Z",
     "shell.execute_reply": "2025-01-31T20:47:22.735871Z"
    }
   },
   "outputs": [],
   "source": [
    "?max"
   ]
  },
  {
   "cell_type": "markdown",
   "metadata": {},
   "source": [
    "Notice that this command shows you the entire `Docstring` (the portion of the function inside the triple quotes, right underneath the signature). This is why writing a helpful `Docstring` is valuable, especially if you think others are going to use your code in the future. It's common to show the signature of the function, including the names of the arguments, as a hint to the user so they can infer which arguments to include and in which order. This even works with user defined functions, like `disemvowel`."
   ]
  },
  {
   "cell_type": "code",
   "execution_count": null,
   "metadata": {
    "execution": {
     "iopub.execute_input": "2025-01-31T20:47:22.740789Z",
     "iopub.status.busy": "2025-01-31T20:47:22.740354Z",
     "iopub.status.idle": "2025-01-31T20:47:22.784141Z",
     "shell.execute_reply": "2025-01-31T20:47:22.783253Z"
    }
   },
   "outputs": [],
   "source": [
    "?disemvowel"
   ]
  },
  {
   "cell_type": "markdown",
   "metadata": {},
   "source": [
    "### Calls on calls on calls\n",
    "Just as you write a series of lines to build up a complex computation, it's useful to define a series of small functions that build on each other.  Since you can write any code inside a function's body, you can call other functions you've written.\n",
    "\n",
    "If a function is a like a recipe, defining a function in terms of other functions is like having a recipe for cake telling you to follow another recipe to make the frosting, and another to make the jam filling.  This makes the cake recipe shorter and clearer, and it avoids having a bunch of duplicated frosting recipes.  It's a foundation of productive programming.\n",
    "\n",
    "For example, suppose you want to count the number of characters *that aren't vowels* in a piece of text.  One way to do that is this to remove all the vowels and count the size of the remaining string."
   ]
  },
  {
   "cell_type": "markdown",
   "metadata": {
    "deletable": false,
    "editable": false
   },
   "source": [
    "#### Question 1.4.\n",
    "\n",
    "Write a function called `num_non_vowels`.  It should take a string as its argument and return an integer number.  That number should be the number of characters in the argument string that *aren't* vowels. You should use the `disemvowel` function you wrote above inside of the `num_non_vowels` function.\n",
    "\n",
    "**Hint:** Remember, the function `len` takes a string as its argument and returns the number of characters in it."
   ]
  },
  {
   "cell_type": "code",
   "execution_count": null,
   "metadata": {
    "execution": {
     "iopub.execute_input": "2025-01-31T20:47:22.787360Z",
     "iopub.status.busy": "2025-01-31T20:47:22.787076Z",
     "iopub.status.idle": "2025-01-31T20:47:22.792831Z",
     "shell.execute_reply": "2025-01-31T20:47:22.791765Z"
    },
    "tags": []
   },
   "outputs": [],
   "source": [
    "def num_non_vowels(a_string):\n",
    "    \"\"\"The number of characters in a string, minus the vowels.\"\"\"\n",
    "    ...\n",
    "\n",
    "# Try calling your function yourself to \n",
    "# make sure the output is what you expect.\n",
    "\n",
    "num_non_vowels('try me out with a few phrases')"
   ]
  },
  {
   "cell_type": "code",
   "execution_count": null,
   "metadata": {
    "deletable": false,
    "editable": false
   },
   "outputs": [],
   "source": [
    "grader.check(\"q1_4\")"
   ]
  },
  {
   "cell_type": "markdown",
   "metadata": {},
   "source": [
    "Functions can also encapsulate code that *displays output* instead of computing a value. For example, if you call `print` inside a function, and then call that function, something will get printed.\n",
    "\n",
    "The `movies_by_year` dataset in the textbook has information about movie sales in recent years.  Suppose you'd like to display the year with the 5th-highest total gross movie sales, printed in a human-readable way.  \n",
    "\n",
    "**One way to do this could be the block of code below.** Read through it carefully so you understand the operations this code completes, and then run the cell to verify it works."
   ]
  },
  {
   "cell_type": "code",
   "execution_count": null,
   "metadata": {
    "execution": {
     "iopub.execute_input": "2025-01-31T20:47:22.813800Z",
     "iopub.status.busy": "2025-01-31T20:47:22.813163Z",
     "iopub.status.idle": "2025-01-31T20:47:22.821779Z",
     "shell.execute_reply": "2025-01-31T20:47:22.821055Z"
    }
   },
   "outputs": [],
   "source": [
    "movies_by_year = Table.read_table('movies_by_year.csv')\n",
    "fifth_from_top_movie_year = movies_by_year.sort('Total Gross', descending=True).column('Year').item(5-1)\n",
    "print('Year number', 5, 'for total gross movie sales was', fifth_from_top_movie_year)"
   ]
  },
  {
   "cell_type": "markdown",
   "metadata": {},
   "source": [
    "**Oops!** After writing this, you realize you also wanted to print out the 2$^\\text{nd}$ and 3$^\\text{rd}$ highest years.  Instead of copying and editing your code for these additional cases, you decide to the code into a function.  Since the rank will vary from call to call, you should make that an argument (input) to your function and name it `k`."
   ]
  },
  {
   "cell_type": "markdown",
   "metadata": {
    "deletable": false,
    "editable": false
   },
   "source": [
    "#### Question 1.5.\n",
    "\n",
    "Write a function called `print_kth_top_movie_year`.  It should take a single argument, the rank of the year (like 2, 3, or 5 in the above examples).  It should **`print`** out a message exactly like the one above.  \n",
    "\n",
    "**Note:** Your function shouldn't have a `return` statement.\n"
   ]
  },
  {
   "cell_type": "code",
   "execution_count": null,
   "metadata": {
    "execution": {
     "iopub.execute_input": "2025-01-31T20:47:22.838194Z",
     "iopub.status.busy": "2025-01-31T20:47:22.837649Z",
     "iopub.status.idle": "2025-01-31T20:47:22.843225Z",
     "shell.execute_reply": "2025-01-31T20:47:22.842213Z"
    },
    "tags": []
   },
   "outputs": [],
   "source": [
    "def print_kth_top_movie_year(k):\n",
    "    ...\n",
    "    ...\n",
    "    print(...)\n",
    "    \n",
    "# Example calls to your function\n",
    "print_kth_top_movie_year(2)\n",
    "print_kth_top_movie_year(3)"
   ]
  },
  {
   "cell_type": "code",
   "execution_count": null,
   "metadata": {
    "deletable": false,
    "editable": false
   },
   "outputs": [],
   "source": [
    "grader.check(\"q1_5\")"
   ]
  },
  {
   "cell_type": "markdown",
   "metadata": {},
   "source": [
    "### OPTIONAL: `interact`\n",
    "\n",
    "One interesting python library is [Jupyter Widgets](https://ipywidgets.readthedocs.io/en/8.1.0/index.html), in particular the [`interact`](https://ipywidgets.readthedocs.io/en/8.1.0/examples/Using%20Interact.html) function. It allows you to create interactive elements in your notebook, like sliders and dropdown menus, and use the selections as inputs to a function. Running the cell below will create a drop down menu for the elements in the array `np.arange(1, 10)` and display the results of passing the selected element to the function `print_kth_top_movie_year`. Run it and see how it works."
   ]
  },
  {
   "cell_type": "code",
   "execution_count": null,
   "metadata": {
    "execution": {
     "iopub.execute_input": "2025-01-31T20:47:22.869144Z",
     "iopub.status.busy": "2025-01-31T20:47:22.868886Z",
     "iopub.status.idle": "2025-01-31T20:47:22.881579Z",
     "shell.execute_reply": "2025-01-31T20:47:22.880993Z"
    }
   },
   "outputs": [],
   "source": [
    "# interact also allows you to pass in an array for a function argument. \n",
    "# It will then present a dropdown menu of options.\n",
    "\n",
    "interact(print_kth_top_movie_year, k=np.arange(1, 10));"
   ]
  },
  {
   "cell_type": "markdown",
   "metadata": {},
   "source": [
    "Running the cell below will create a slider that users can use to select the value to be used as the argument `k`."
   ]
  },
  {
   "cell_type": "code",
   "execution_count": null,
   "metadata": {
    "execution": {
     "iopub.execute_input": "2025-01-31T20:47:22.884928Z",
     "iopub.status.busy": "2025-01-31T20:47:22.884703Z",
     "iopub.status.idle": "2025-01-31T20:47:22.898443Z",
     "shell.execute_reply": "2025-01-31T20:47:22.897570Z"
    }
   },
   "outputs": [],
   "source": [
    "# You can also create a slider to select values\n",
    "\n",
    "interact(print_kth_top_movie_year, k=widgets.IntSlider(min=1, max=10, step=1, value=5));"
   ]
  },
  {
   "cell_type": "markdown",
   "metadata": {},
   "source": [
    "This topic is not required for you to learn, but we include it anyways in case you are inspired to learn more about the `interact` library when building your own notebooks in the future."
   ]
  },
  {
   "cell_type": "markdown",
   "metadata": {},
   "source": [
    "## 2. Functions and CEO Incomes\n",
    "\n",
    "Let's take a look at the 2019 compensation of North Carolina CEOs. The following table contains information on the top 61 highest paid CEOs for companies headquartered in North Carolina. The data was compiled from the [AFL-CIO Executive Paywatch database](https://aflcio.org/paywatch/highest-paid-ceos), and ultimately came from [filings](https://www.sec.gov/answers/proxyhtf.htm) mandated by the SEC from all publicly-traded companies.\n",
    "\n",
    "We've copied the raw data from the AFL-CIO database into a file called `nc-ceo-pay.csv`."
   ]
  },
  {
   "cell_type": "code",
   "execution_count": null,
   "metadata": {
    "execution": {
     "iopub.execute_input": "2025-01-31T20:47:22.938498Z",
     "iopub.status.busy": "2025-01-31T20:47:22.938204Z",
     "iopub.status.idle": "2025-01-31T20:47:22.949400Z",
     "shell.execute_reply": "2025-01-31T20:47:22.948420Z"
    }
   },
   "outputs": [],
   "source": [
    "raw_compensation = Table.read_table('nc-ceo-pay.csv')\n",
    "raw_compensation"
   ]
  },
  {
   "cell_type": "markdown",
   "metadata": {},
   "source": [
    "We want to compute the average of the CEOs' pay. If you were to attempt to use the `np.average` function on this column, you'd run into an error:\n",
    "\n",
    "```python\n",
    "np.average(raw_compensation.column('Total Pay'))\n",
    "```\n",
    "\n",
    "![](error02.png)"
   ]
  },
  {
   "cell_type": "markdown",
   "metadata": {},
   "source": [
    "You would specifically see a `TypeError`. The more cryptic parts of this error message are explaining that there's an issue using the `add` function because the data doesn't match the expected type. It found `strings`, which is unusual because we'd expect salary information to be numerical information.\n",
    "\n",
    "Let's examine why this error occurred by looking at the values in the `Total Pay` column.     "
   ]
  },
  {
   "cell_type": "markdown",
   "metadata": {
    "deletable": false,
    "editable": false
   },
   "source": [
    "#### Question 2.1.\n",
    "\n",
    "Set `total_pay_type` to the type of the first value in the \"Total Pay\" column of the `raw_compensation` Table. Given the error message above, we might expect to type to be a string, or `str`.\n",
    "\n",
    "**Reminder:** You can use the `type` function on this element to determine it's type. "
   ]
  },
  {
   "cell_type": "code",
   "execution_count": null,
   "metadata": {
    "execution": {
     "iopub.execute_input": "2025-01-31T20:47:22.953185Z",
     "iopub.status.busy": "2025-01-31T20:47:22.952880Z",
     "iopub.status.idle": "2025-01-31T20:47:22.959664Z",
     "shell.execute_reply": "2025-01-31T20:47:22.958531Z"
    },
    "tags": []
   },
   "outputs": [],
   "source": [
    "total_pay_type = ...\n",
    "total_pay_type"
   ]
  },
  {
   "cell_type": "code",
   "execution_count": null,
   "metadata": {
    "deletable": false,
    "editable": false
   },
   "outputs": [],
   "source": [
    "grader.check(\"q2_1\")"
   ]
  },
  {
   "cell_type": "markdown",
   "metadata": {
    "deletable": false,
    "editable": false
   },
   "source": [
    "#### Question 2.2.\n",
    "\n",
    "You should have found that the values in the `Total Pay` column are strings. It doesn't make sense to take the average of string values, so we need to convert them to numbers if we want to do this. \n",
    "\n",
    "Extract the first value in the column `Total Pay`.  It's [Brian Moynihan's](https://en.wikipedia.org/wiki/Brian_Moynihan) pay in 2019, in dollars.  Call it `brian_moynihan_pay_string`.\n"
   ]
  },
  {
   "cell_type": "code",
   "execution_count": null,
   "metadata": {
    "execution": {
     "iopub.execute_input": "2025-01-31T20:47:22.977438Z",
     "iopub.status.busy": "2025-01-31T20:47:22.977198Z",
     "iopub.status.idle": "2025-01-31T20:47:22.982013Z",
     "shell.execute_reply": "2025-01-31T20:47:22.981319Z"
    },
    "tags": []
   },
   "outputs": [],
   "source": [
    "brian_moynihan_pay_string = ...\n",
    "brian_moynihan_pay_string"
   ]
  },
  {
   "cell_type": "code",
   "execution_count": null,
   "metadata": {
    "deletable": false,
    "editable": false
   },
   "outputs": [],
   "source": [
    "grader.check(\"q2_2\")"
   ]
  },
  {
   "cell_type": "markdown",
   "metadata": {
    "deletable": false,
    "editable": false
   },
   "source": [
    "#### Question 2.3.\n",
    "\n",
    "Convert `brian_moynihan_pay_string` to a number of *dollars*. Since number of dollars is numerical, your goal should be to convert the `string` to a `float`, which you can do using the function named `float`. However, attempting to just use this function on the string above will result in an error:\n",
    "\n",
    "![](error03.png)\n",
    "\n",
    "That's because the `float` function expects the string you provide to contain only numerical digits `0-9`. The dollar sign (`$`) and commas (`,`) are causing this issue. The trailing space at the end of the string might be unsightly, but it will not prevent the `float` function from running. \n",
    "\n",
    "We must \"clean\" these strings so they only contain the correct values. Doing so by hand, one row at a time, would be incredibly time consuming and tedious, so we should figure out how to use Python commands to help.\n",
    "\n",
    "**Some hints**, as this question requires multiple steps:\n",
    "- The string method `strip` will be useful for removing the dollar sign; it removes a specified character from the start or end of a string.  For example, the value of `\"100%\".strip(\"%\")` is the string `\"100\"`. \n",
    "- The string method `replace` from earlier in this lab will be useful for removing the commas; remember this method can remove any character by replacing it with an empty string `''`\n",
    "- You'll also need the function `float`, which converts a string that looks like a number to an actual number.  \n"
   ]
  },
  {
   "cell_type": "code",
   "execution_count": null,
   "metadata": {
    "execution": {
     "iopub.execute_input": "2025-01-31T20:47:22.992110Z",
     "iopub.status.busy": "2025-01-31T20:47:22.991861Z",
     "iopub.status.idle": "2025-01-31T20:47:22.996906Z",
     "shell.execute_reply": "2025-01-31T20:47:22.996180Z"
    },
    "tags": []
   },
   "outputs": [],
   "source": [
    "brian_moynihan_pay = ...\n",
    "brian_moynihan_pay"
   ]
  },
  {
   "cell_type": "code",
   "execution_count": null,
   "metadata": {
    "deletable": false,
    "editable": false
   },
   "outputs": [],
   "source": [
    "grader.check(\"q2_3\")"
   ]
  },
  {
   "cell_type": "markdown",
   "metadata": {},
   "source": [
    "To compute the average pay of North Carolina CEOs, we would need to do this for every CEO in the Table. That would involve running a version of this code 61 times, which seems very inefficient for us to do \"manually\", even with copying and pasting.\n",
    "\n",
    "Functions can be used to help speed up this process. First, define a new function to give the expression that converts \"total pay\" strings to numeric values a name that we can reference.  Later in this lab, we'll see the payoff: we can call that function on every pay string in the Table at once using a single command; no copy and paste needed!"
   ]
  },
  {
   "cell_type": "markdown",
   "metadata": {
    "deletable": false,
    "editable": false
   },
   "source": [
    "#### Question 2.4.\n",
    "\n",
    "Copy the expression you used to compute `brian_moynihan_pay`, and use it as the return expression of the function below. But make sure you replace the specific name used in the previous question ( `brian_moynihan_pay_string`) with the more generic named `pay_string` that is specified in the signature of the `convert_pay_string_to_number` function. This function should work for any string found the `Total Pay` column, which means dollar signs (`$`) and commas (`,`) should be removed!\n",
    "\n",
    "**Remember**: When working with functions, in general, you should not reference any variable outside of the function. Usually, you want to be working with the arguments that are passed into it, such as `pay_string` for this function. If you're using `brian_moynihan_pay_string` within your function, you're referencing an outside variable!"
   ]
  },
  {
   "cell_type": "code",
   "execution_count": null,
   "metadata": {
    "execution": {
     "iopub.execute_input": "2025-01-31T20:47:23.049284Z",
     "iopub.status.busy": "2025-01-31T20:47:23.049027Z",
     "iopub.status.idle": "2025-01-31T20:47:23.055275Z",
     "shell.execute_reply": "2025-01-31T20:47:23.054374Z"
    },
    "tags": []
   },
   "outputs": [],
   "source": [
    "def convert_pay_string_to_number(pay_string):\n",
    "    \"\"\"Converts a pay string like '$100,000,000 ' to a number of dollars.\"\"\"\n",
    "    ...\n",
    "\n",
    "# An example function call to see if your function works\n",
    "convert_pay_string_to_number('$123,456 ')"
   ]
  },
  {
   "cell_type": "code",
   "execution_count": null,
   "metadata": {
    "deletable": false,
    "editable": false
   },
   "outputs": [],
   "source": [
    "grader.check(\"q2_4\")"
   ]
  },
  {
   "cell_type": "markdown",
   "metadata": {},
   "source": [
    "Again, the benefit of using a function called `convert_pay_string_to_number` is that it can convert *any* string with this format to a float representing dollars, not just a specific row of the Table.\n",
    "\n",
    "We can call our function just like we call the built-in functions we've seen already throughout the course. The function you've written takes one argument (a string) and it returns a float."
   ]
  },
  {
   "cell_type": "code",
   "execution_count": null,
   "metadata": {
    "execution": {
     "iopub.execute_input": "2025-01-31T20:47:23.073750Z",
     "iopub.status.busy": "2025-01-31T20:47:23.073453Z",
     "iopub.status.idle": "2025-01-31T20:47:23.078411Z",
     "shell.execute_reply": "2025-01-31T20:47:23.077803Z"
    }
   },
   "outputs": [],
   "source": [
    "# We can also compute Susan DeVores pay in the same way using this function\n",
    "convert_pay_string_to_number(raw_compensation.where('Name', are.containing('Susan')).column(\"Total Pay\").item(0))"
   ]
  },
  {
   "cell_type": "markdown",
   "metadata": {},
   "source": [
    "So, what else have we gained by defining the `convert_pay_string_to_number` function?"
   ]
  },
  {
   "cell_type": "markdown",
   "metadata": {},
   "source": [
    "## 3. `apply`ing Functions\n",
    "\n",
    "In many ways Python treats functions as it treats any other named object. Just like integers, strings, and floats, functions can be used in assignment statements and as inputs to other functions. \n",
    "\n",
    "For example, if we want to we can create a new name for the built-in function `max`."
   ]
  },
  {
   "cell_type": "code",
   "execution_count": null,
   "metadata": {
    "execution": {
     "iopub.execute_input": "2025-01-31T20:47:23.081270Z",
     "iopub.status.busy": "2025-01-31T20:47:23.080564Z",
     "iopub.status.idle": "2025-01-31T20:47:23.084878Z",
     "shell.execute_reply": "2025-01-31T20:47:23.084332Z"
    }
   },
   "outputs": [],
   "source": [
    "our_name_for_max = max\n",
    "our_name_for_max(2, 6)"
   ]
  },
  {
   "cell_type": "markdown",
   "metadata": {},
   "source": [
    "The old name for `max` is still around."
   ]
  },
  {
   "cell_type": "code",
   "execution_count": null,
   "metadata": {
    "execution": {
     "iopub.execute_input": "2025-01-31T20:47:23.087256Z",
     "iopub.status.busy": "2025-01-31T20:47:23.087019Z",
     "iopub.status.idle": "2025-01-31T20:47:23.091324Z",
     "shell.execute_reply": "2025-01-31T20:47:23.090728Z"
    }
   },
   "outputs": [],
   "source": [
    "max(2, 6)"
   ]
  },
  {
   "cell_type": "markdown",
   "metadata": {},
   "source": [
    "### Careful!\n",
    "Because Python treats functions like any other type of named object, you can accidentally overwrite the function like you could any other piece of data.\n",
    "\n",
    "Let's look at what happens when we assign the built-in function `max` a non-function value, like an integer. You'll notice that a `TypeError` will occur when you try running `max(2, 6)` on line 2 in the cell below. That's because in line 1, `max` was redefined to no longer be the `max` function that you know and love, but rather the integer with a value of `6`. Things like integers and strings are not callable like functions, which explains the error message you get when you run the cell below. \n",
    "\n",
    "![](error04.png)\n",
    "\n",
    "**Hint**: If you ever try running a function and get this error message, look out for any functions that might have been renamed (likely by accident) somewhere else in your notebook."
   ]
  },
  {
   "cell_type": "markdown",
   "metadata": {},
   "source": [
    "### Why is this useful?\n",
    "\n",
    "It may seem odd to give a function a new name, but this feature in Python does have it's uses. Since functions are treated just like other data types, it's possible to pass functions as arguments to other functions, just like you might pass an `int` or `str` object. \n",
    "\n",
    "Here's a simple but not-so-practical example: we can make an array of functions by providing function names as arguments to the `make_array` function."
   ]
  },
  {
   "cell_type": "code",
   "execution_count": null,
   "metadata": {
    "execution": {
     "iopub.execute_input": "2025-01-31T20:47:23.093622Z",
     "iopub.status.busy": "2025-01-31T20:47:23.093392Z",
     "iopub.status.idle": "2025-01-31T20:47:23.098978Z",
     "shell.execute_reply": "2025-01-31T20:47:23.098153Z"
    }
   },
   "outputs": [],
   "source": [
    "make_array(max, np.average, are.equal_to)"
   ]
  },
  {
   "cell_type": "markdown",
   "metadata": {
    "deletable": false,
    "editable": false
   },
   "source": [
    "#### Question 3.1.\n",
    "\n",
    "Make an array containing any 3 other functions you've seen.  Call it `some_functions`.\n"
   ]
  },
  {
   "cell_type": "code",
   "execution_count": null,
   "metadata": {
    "execution": {
     "iopub.execute_input": "2025-01-31T20:47:23.101637Z",
     "iopub.status.busy": "2025-01-31T20:47:23.101399Z",
     "iopub.status.idle": "2025-01-31T20:47:23.134909Z",
     "shell.execute_reply": "2025-01-31T20:47:23.105399Z"
    },
    "tags": []
   },
   "outputs": [],
   "source": [
    "some_functions = ...\n",
    "some_functions"
   ]
  },
  {
   "cell_type": "code",
   "execution_count": null,
   "metadata": {
    "deletable": false,
    "editable": false
   },
   "outputs": [],
   "source": [
    "grader.check(\"q3_1\")"
   ]
  },
  {
   "cell_type": "markdown",
   "metadata": {},
   "source": [
    "Working with functions as values can lead to some funny-looking code. For example, see if you can figure out why the following code works. Check your explanation with a classmate or your instructor."
   ]
  },
  {
   "cell_type": "code",
   "execution_count": null,
   "metadata": {
    "execution": {
     "iopub.execute_input": "2025-01-31T20:47:23.167608Z",
     "iopub.status.busy": "2025-01-31T20:47:23.167370Z",
     "iopub.status.idle": "2025-01-31T20:47:23.171990Z",
     "shell.execute_reply": "2025-01-31T20:47:23.171387Z"
    }
   },
   "outputs": [],
   "source": [
    "make_array(max, np.average, are.equal_to).item(0)(4, -2, 7)"
   ]
  },
  {
   "cell_type": "markdown",
   "metadata": {},
   "source": [
    "### The `apply` method\n",
    "\n",
    "In this cousre, the most useful example of passing functions as inputs to other functions is the Table method named `apply`.\n",
    "\n",
    "`apply` calls a function many times, once on *each* element in a column of a table.  It returns an *array* of the results of applying the provided function on each element.  \n",
    "\n",
    "Run the cell below to use `apply` to convert every CEO's pay to a number, using the function you defined earlier in this lab."
   ]
  },
  {
   "cell_type": "code",
   "execution_count": null,
   "metadata": {
    "execution": {
     "iopub.execute_input": "2025-01-31T20:47:23.175071Z",
     "iopub.status.busy": "2025-01-31T20:47:23.174523Z",
     "iopub.status.idle": "2025-01-31T20:47:23.180052Z",
     "shell.execute_reply": "2025-01-31T20:47:23.179289Z"
    }
   },
   "outputs": [],
   "source": [
    "raw_compensation.apply(convert_pay_string_to_number, 'Total Pay')"
   ]
  },
  {
   "cell_type": "markdown",
   "metadata": {},
   "source": [
    "Here's an illustration of what that did:\n",
    "\n",
    "<img src=\"apply.png\"/>"
   ]
  },
  {
   "cell_type": "markdown",
   "metadata": {},
   "source": [
    "**Note:** We didn’t write `raw_compensation.apply(convert_pay_string_to_number(), 'Total Pay')` or `raw_compensation.apply(convert_pay_string_to_number('Total Pay'))`. \n",
    "\n",
    "We provided only the name of the function, with **no parentheses** ,and the name of the column to use it on. The `apply` method will call the function you specify, in this case `convert_pay_string_to_number`, using each value in the specified column, in this case`'Total Pay'`, automatically for you! It's a very quick operation, especially compared to going through one element at a time and calling the function."
   ]
  },
  {
   "cell_type": "markdown",
   "metadata": {
    "deletable": false,
    "editable": false
   },
   "source": [
    "#### Question 3.2.\n",
    "\n",
    "Using `apply`, make a table that's a copy of `raw_compensation` with one additional column called `Total Pay ($)`.  That column should contain the result of applying `convert_pay_string_to_number` to the `Total Pay` column (as we did above).  Call the new table `compensation`.\n"
   ]
  },
  {
   "cell_type": "code",
   "execution_count": null,
   "metadata": {
    "execution": {
     "iopub.execute_input": "2025-01-31T20:47:23.183421Z",
     "iopub.status.busy": "2025-01-31T20:47:23.182750Z",
     "iopub.status.idle": "2025-01-31T20:47:23.189623Z",
     "shell.execute_reply": "2025-01-31T20:47:23.188959Z"
    },
    "tags": []
   },
   "outputs": [],
   "source": [
    "compensation = raw_compensation.with_column(\n",
    "    'Total Pay ($)',\n",
    "    ...\n",
    "    )\n",
    "compensation"
   ]
  },
  {
   "cell_type": "code",
   "execution_count": null,
   "metadata": {
    "deletable": false,
    "editable": false
   },
   "outputs": [],
   "source": [
    "grader.check(\"q3_2\")"
   ]
  },
  {
   "cell_type": "markdown",
   "metadata": {},
   "source": [
    "Now that we have all the pays as numbers, we can learn more about them through computation."
   ]
  },
  {
   "cell_type": "markdown",
   "metadata": {
    "deletable": false,
    "editable": false
   },
   "source": [
    "#### Question 3.3.\n",
    "\n",
    "Compute the average total pay of the CEOs in the dataset.\n"
   ]
  },
  {
   "cell_type": "code",
   "execution_count": null,
   "metadata": {
    "execution": {
     "iopub.execute_input": "2025-01-31T20:47:23.241448Z",
     "iopub.status.busy": "2025-01-31T20:47:23.241206Z",
     "iopub.status.idle": "2025-01-31T20:47:23.246322Z",
     "shell.execute_reply": "2025-01-31T20:47:23.245493Z"
    },
    "tags": []
   },
   "outputs": [],
   "source": [
    "average_total_pay = ...\n",
    "average_total_pay"
   ]
  },
  {
   "cell_type": "code",
   "execution_count": null,
   "metadata": {
    "deletable": false,
    "editable": false
   },
   "outputs": [],
   "source": [
    "grader.check(\"q3_3\")"
   ]
  },
  {
   "cell_type": "markdown",
   "metadata": {
    "deletable": false,
    "editable": false
   },
   "source": [
    "#### Question 3.4.\n",
    "\n",
    "Companies pay executives in a variety of ways: \n",
    "* in salary\n",
    "* by granting stock and/or options,\n",
    "* other equity in the company, or\n",
    "* with ancillary benefits (like private jets).\n",
    "  \n",
    "Compute the proportion of each CEO's Total Pay that was salary. Assign our answer, which should be an array of numbers (one for each CEO in the data set) to the name `salary_proportion`."
   ]
  },
  {
   "cell_type": "code",
   "execution_count": null,
   "metadata": {
    "execution": {
     "iopub.execute_input": "2025-01-31T20:47:23.256938Z",
     "iopub.status.busy": "2025-01-31T20:47:23.256645Z",
     "iopub.status.idle": "2025-01-31T20:47:23.262340Z",
     "shell.execute_reply": "2025-01-31T20:47:23.261576Z"
    },
    "tags": []
   },
   "outputs": [],
   "source": [
    "salary_proportion = ...\n",
    "salary_proportion"
   ]
  },
  {
   "cell_type": "code",
   "execution_count": null,
   "metadata": {
    "deletable": false,
    "editable": false
   },
   "outputs": [],
   "source": [
    "grader.check(\"q3_4\")"
   ]
  },
  {
   "cell_type": "markdown",
   "metadata": {},
   "source": [
    "### Why is `apply` useful?\n",
    "\n",
    "Some of the built-in functions and operators and almost all of the functions in the `numpy` library work equally well with single object inputs or an array of objects. You don't need to use a method like `apply` to call the function on each element in the array because they automatically work on each element of an array. These types of functions are called **vectorized** in data science language. However, there are many functions that aren't written in a way that they work on each element in an array automatically. The `disemvowel` function in this lab is one example; it will work on a single string, but it is not written to work on an array of strings.  The `apply` method gives you to use any function on every element in an array without knowing how to properly **vectorize** your functions."
   ]
  },
  {
   "cell_type": "markdown",
   "metadata": {
    "deletable": false,
    "editable": false
   },
   "source": [
    "#### Question 3.5.\n",
    "\n",
    "Extend the table so it includes a new column labeled `'Salary (%)'` which contains the **proportions** contained in the array `salary_proportion`; you will convert these proportions to percentages in the next question. \n",
    "\n",
    "Call this new table `ceo_salary_percent`."
   ]
  },
  {
   "cell_type": "code",
   "execution_count": null,
   "metadata": {
    "execution": {
     "iopub.execute_input": "2025-01-31T20:47:23.287426Z",
     "iopub.status.busy": "2025-01-31T20:47:23.287190Z",
     "iopub.status.idle": "2025-01-31T20:47:23.294431Z",
     "shell.execute_reply": "2025-01-31T20:47:23.293497Z"
    },
    "tags": []
   },
   "outputs": [],
   "source": [
    "ceo_salary_percent = ...\n",
    "ceo_salary_percent"
   ]
  },
  {
   "cell_type": "code",
   "execution_count": null,
   "metadata": {
    "deletable": false,
    "editable": false
   },
   "outputs": [],
   "source": [
    "grader.check(\"q3_5\")"
   ]
  },
  {
   "cell_type": "markdown",
   "metadata": {
    "deletable": false,
    "editable": false
   },
   "source": [
    "<!-- BEGIN QUESTION -->\n",
    "\n",
    "#### Question 3.6.\n",
    "\n",
    "Use the `set_format` Table method to format the `'Salary (%)'` column in `ceo_salary_percent` so the values display as percentages out of 100 instead of proportions out of 1. As a reminder, the syntax for `set_format` is:\n",
    "\n",
    "```python\n",
    "Table.set_format(column_or_columns, formatter)\n",
    "```\n",
    "\n",
    "Forget how to use the formatter? Revisit the example in [Chapter 6: Tables](https://inferentialthinking.com/chapters/06/Tables.html)"
   ]
  },
  {
   "cell_type": "code",
   "execution_count": null,
   "metadata": {
    "execution": {
     "iopub.execute_input": "2025-01-31T20:47:23.347286Z",
     "iopub.status.busy": "2025-01-31T20:47:23.347033Z",
     "iopub.status.idle": "2025-01-31T20:47:23.353632Z",
     "shell.execute_reply": "2025-01-31T20:47:23.352969Z"
    },
    "tags": []
   },
   "outputs": [],
   "source": [
    "...\n",
    "ceo_salary_percent"
   ]
  },
  {
   "cell_type": "markdown",
   "metadata": {
    "deletable": false,
    "editable": false
   },
   "source": [
    "<!-- END QUESTION -->\n",
    "\n",
    "## 4. Histograms\n",
    "\n",
    "Earlier, we computed the average pay among the CEOs in our 61-CEO dataset. The average doesn't tell us everything about the amounts CEOs are paid, though. Maybe just a few CEOs make the bulk of the money, even among these 61.\n",
    "\n",
    "We can use a histogram method to display the distribution of a set of numbers. The table method hist takes a single argument, the name of a column of numbers. It produces a histogram of the numbers in that column."
   ]
  },
  {
   "cell_type": "markdown",
   "metadata": {
    "deletable": false,
    "editable": false
   },
   "source": [
    "<!-- BEGIN QUESTION -->\n",
    "\n",
    "#### Question 4.1.\n",
    "\n",
    "Make a histogram of the total pay of the CEOs in `compensation`. Your bins should start at $\\$ 0$ and end at $ \\$ 25,000,000$ and be $ \\$ 1,000,000$ wide. There is no automatic grader check on this question, so check with a classmate to make sure you have the right plot.\n",
    "\n",
    "**Note:** Because your units are dollars (not thousands or millions of dollars) each bar has a very large number for its width. That means that the bars will have very small numbers for their heights, since the area of each bar is still going to be between 0 and 100 percent."
   ]
  },
  {
   "cell_type": "code",
   "execution_count": null,
   "metadata": {
    "execution": {
     "iopub.execute_input": "2025-01-31T20:47:23.356412Z",
     "iopub.status.busy": "2025-01-31T20:47:23.356168Z",
     "iopub.status.idle": "2025-01-31T20:47:23.579510Z",
     "shell.execute_reply": "2025-01-31T20:47:23.578563Z"
    },
    "tags": []
   },
   "outputs": [],
   "source": [
    "..."
   ]
  },
  {
   "cell_type": "markdown",
   "metadata": {
    "deletable": false,
    "editable": false
   },
   "source": [
    "<!-- END QUESTION -->\n",
    "\n",
    "#### Question 4.2\n",
    "\n",
    "How many CEOs made more than $10 million in total pay? Compute the value using code (`where` and `num_rows` will be your friend!), then check that the value you found is consistent with what you see in the histogram.\n"
   ]
  },
  {
   "cell_type": "code",
   "execution_count": null,
   "metadata": {
    "execution": {
     "iopub.execute_input": "2025-01-31T20:47:23.582559Z",
     "iopub.status.busy": "2025-01-31T20:47:23.582300Z",
     "iopub.status.idle": "2025-01-31T20:47:23.587912Z",
     "shell.execute_reply": "2025-01-31T20:47:23.587113Z"
    },
    "tags": []
   },
   "outputs": [],
   "source": [
    "num_ceos_more_than_10_million = ...\n",
    "num_ceos_more_than_10_million"
   ]
  },
  {
   "cell_type": "code",
   "execution_count": null,
   "metadata": {
    "deletable": false,
    "editable": false
   },
   "outputs": [],
   "source": [
    "grader.check(\"q4_2\")"
   ]
  },
  {
   "cell_type": "markdown",
   "metadata": {},
   "source": [
    "# Submitting your work\n",
    "You're done with this assignment! Assignments should be turned in using the following best practices:\n",
    "1. Save your notebook.\n",
    "2. Restart the kernel and run all cells up to this one.\n",
    "3. Run the cell below with the code `grader.export(...)`. This will re-run all the tests. Make sure they are passing as you expect them to.\n",
    "4. Download the file named `lab04_<date-time-stamp>.zip`, found in the explorer pane on the left side of the screen. **Note**: Clicking on the link in this notebook may result in an error, it's best to download from the file explorer panel.\n",
    "5. Upload `lab04_<date-time-stamp>.zip` to the corresponding assignment on Canvas."
   ]
  },
  {
   "cell_type": "markdown",
   "metadata": {
    "deletable": false,
    "editable": false
   },
   "source": [
    "## Submission\n",
    "\n",
    "Make sure you have run all cells in your notebook in order before running the cell below, so that all images/graphs appear in the output. The cell below will generate a zip file for you to submit."
   ]
  },
  {
   "cell_type": "code",
   "execution_count": null,
   "metadata": {
    "deletable": false,
    "editable": false
   },
   "outputs": [],
   "source": [
    "grader.export(pdf=False, force_save=True)"
   ]
  },
  {
   "cell_type": "markdown",
   "metadata": {},
   "source": [
    " "
   ]
  }
 ],
 "metadata": {
  "kernelspec": {
   "display_name": "Python 3 (ipykernel)",
   "language": "python",
   "name": "python3"
  },
  "language_info": {
   "codemirror_mode": {
    "name": "ipython",
    "version": 3
   },
   "file_extension": ".py",
   "mimetype": "text/x-python",
   "name": "python",
   "nbconvert_exporter": "python",
   "pygments_lexer": "ipython3",
   "version": "3.12.8"
  },
  "otter": {
   "OK_FORMAT": true,
   "tests": {
    "q1_1": {
     "name": "q1_1",
     "points": null,
     "suites": [
      {
       "cases": [
        {
         "code": ">>> type(to_percentage(0.35)) == float\nTrue",
         "failure_message": "❌ Your function does not return a float. Check that you are using a return statement, and not a print statement.",
         "hidden": false,
         "locked": false,
         "points": 0.25,
         "success_message": "✅ Your function returns a float type number"
        },
        {
         "code": ">>> np.array_equal(to_percentage(np.array([0.7, 0.25, 0.67, 1, 0])), np.array([70.0, 25.0, 67.0, 100.0, 0.0]))\nTrue",
         "failure_message": "❌ Your function does not appear to work for all values. Check to make sure your approach will work for all inputs, including 0 and 1.",
         "hidden": false,
         "locked": false,
         "points": 0.5,
         "success_message": "✅ Your function returns correct values for a variety of inputs"
        },
        {
         "code": ">>> twenty_percent\n20.0",
         "failure_message": "❌ You did not assign the correct value to `twenty_percent`",
         "hidden": false,
         "locked": false,
         "points": 0.25,
         "success_message": "✅ You assigned the correct value to `twenty_percent`"
        }
       ],
       "scored": true,
       "setup": "",
       "teardown": "",
       "type": "doctest"
      }
     ]
    },
    "q1_2": {
     "name": "q1_2",
     "points": null,
     "suites": [
      {
       "cases": [
        {
         "code": ">>> type(a_percentage) == float\nTrue",
         "failure_message": "❌ Your function does not return a float. Check that you are using a return statement, and not a print statement.",
         "hidden": false,
         "locked": false,
         "points": 0.25,
         "success_message": "✅ Your function returns a float type number"
        },
        {
         "code": ">>> np.isclose(a_percentage, 70.71067811865476)\nTrue",
         "failure_message": "❌ You did not assign the correct value to `a_percentage`",
         "hidden": false,
         "locked": false,
         "points": 0.75,
         "success_message": "✅ You assigned the correct value to `a_percentage`"
        }
       ],
       "scored": true,
       "setup": "",
       "teardown": "",
       "type": "doctest"
      }
     ]
    },
    "q1_3": {
     "name": "q1_3",
     "points": null,
     "suites": [
      {
       "cases": [
        {
         "code": ">>> type(disemvowel('can you read this without vowels?')) == str\nTrue",
         "failure_message": "❌ Your function does not return a string. Check that you are using a return statement, and not a print statement.",
         "hidden": false,
         "locked": false,
         "points": 0.25,
         "success_message": "✅ Your function returns a string"
        },
        {
         "code": ">>> disemvowel('your_data_sceince_rules')\n'yr_dt_scnc_rls'",
         "failure_message": "❌ Your function does not return the same string without all the vowels removed.",
         "hidden": false,
         "locked": false,
         "points": 0.75,
         "success_message": "✅ Your function returns the same string without vowels."
        }
       ],
       "scored": true,
       "setup": "",
       "teardown": "",
       "type": "doctest"
      }
     ]
    },
    "q1_4": {
     "name": "q1_4",
     "points": null,
     "suites": [
      {
       "cases": [
        {
         "code": ">>> type(num_non_vowels('can you read this without vowels?')) == int\nTrue",
         "failure_message": "❌ Your function does not return an integer. Check that you are using a return statement, and not a print statement.",
         "hidden": false,
         "locked": false,
         "points": 0.25,
         "success_message": "✅ Your function returns an integer"
        },
        {
         "code": ">>> num_non_vowels('go dragons go unicorns')\n15",
         "failure_message": "❌ Your function does not return the correct number of non-vowels",
         "hidden": false,
         "locked": false,
         "points": 0.75,
         "success_message": "✅ Your function returns the correct number of non-vowels"
        }
       ],
       "scored": true,
       "setup": "",
       "teardown": "",
       "type": "doctest"
      }
     ]
    },
    "q1_5": {
     "name": "q1_5",
     "points": null,
     "suites": [
      {
       "cases": [
        {
         "code": ">>> print_kth_top_movie_year(2)\nYear number 2 for total gross movie sales was 2013\n",
         "failure_message": "❌ Your function does not print a correct output for an input of 2. Are you returning a value instead?",
         "hidden": false,
         "locked": false,
         "points": 0.33,
         "success_message": "✅ Your function prints a correct output for an input of 2."
        },
        {
         "code": ">>> print_kth_top_movie_year(4)\nYear number 4 for total gross movie sales was 2009\n",
         "failure_message": "❌ Your function does not print a correct output for an input of 4. Are you returning a value instead?",
         "hidden": false,
         "locked": false,
         "points": 0.33,
         "success_message": "✅ Your function prints a correct output for an input of 4."
        },
        {
         "code": ">>> print_kth_top_movie_year(10)\nYear number 10 for total gross movie sales was 2004\n",
         "failure_message": "❌ Your function does not print a correct output for an input of 10. Are you returning a value instead?",
         "hidden": false,
         "locked": false,
         "points": 0.34,
         "success_message": "✅ Your function prints a correct output for an input of 10."
        }
       ],
       "scored": true,
       "setup": "",
       "teardown": "",
       "type": "doctest"
      }
     ]
    },
    "q2_1": {
     "name": "q2_1",
     "points": null,
     "suites": [
      {
       "cases": [
        {
         "code": ">>> total_pay_type != np.ndarray\nTrue",
         "failure_message": "❌ Make sure you are determing the type of the values in the column, not the column itself.",
         "hidden": false,
         "locked": false,
         "points": 0.5
        },
        {
         "code": ">>> total_pay_type == str\nTrue",
         "failure_message": "❌ The type of the data you've inspected is not a string, check that you've chosen the correct column.",
         "hidden": false,
         "locked": false,
         "points": 0.5
        }
       ],
       "scored": true,
       "setup": "",
       "teardown": "",
       "type": "doctest"
      }
     ]
    },
    "q2_2": {
     "name": "q2_2",
     "points": null,
     "suites": [
      {
       "cases": [
        {
         "code": ">>> brian_moynihan_pay_string\n'$26,039,213 '",
         "failure_message": "❌ You have not assigned the correct value to `brian_moynihan_pay_string`.",
         "hidden": false,
         "locked": false,
         "points": 1
        }
       ],
       "scored": true,
       "setup": "",
       "teardown": "",
       "type": "doctest"
      }
     ]
    },
    "q2_3": {
     "name": "q2_3",
     "points": null,
     "suites": [
      {
       "cases": [
        {
         "code": ">>> type(brian_moynihan_pay) != str\nTrue",
         "failure_message": "❌ `brian_moynihan_pay_string` is still a string",
         "hidden": false,
         "locked": false,
         "points": 0.25
        },
        {
         "code": ">>> type(brian_moynihan_pay) == float\nTrue",
         "failure_message": "❌ `brian_moynihan_pay_string` is not a float. Did you convert to an intger instead?",
         "hidden": false,
         "locked": false,
         "points": 0.25
        },
        {
         "code": ">>> brian_moynihan_pay\n26039213.0",
         "failure_message": "❌ `brian_moynihan_pay_string` is not the correct value",
         "hidden": false,
         "locked": false,
         "points": 0.5
        }
       ],
       "scored": true,
       "setup": "",
       "teardown": "",
       "type": "doctest"
      }
     ]
    },
    "q2_4": {
     "name": "q2_4",
     "points": null,
     "suites": [
      {
       "cases": [
        {
         "code": ">>> type(convert_pay_string_to_number('$100,000 ')) == float\nTrue",
         "failure_message": "❌ The output of your function is not a float. Are you using the `float` function in your return statement?",
         "hidden": false,
         "locked": false,
         "points": 0.5
        },
        {
         "code": ">>> convert_pay_string_to_number('$23,456,789 ')\n23456789.0",
         "failure_message": "❌ Your function is not returning the correct float",
         "hidden": false,
         "locked": false,
         "points": 0.5
        }
       ],
       "scored": true,
       "setup": "",
       "teardown": "",
       "type": "doctest"
      }
     ]
    },
    "q3_1": {
     "name": "q3_1",
     "points": null,
     "suites": [
      {
       "cases": [
        {
         "code": ">>> len(some_functions)\n3",
         "failure_message": "❌ Your array does not have three elements",
         "hidden": false,
         "locked": false,
         "points": 0.25
        },
        {
         "code": ">>> callable(some_functions.item(0))\nTrue",
         "failure_message": "❌ The first element of your array is not a function",
         "hidden": false,
         "locked": false,
         "points": 0.25
        },
        {
         "code": ">>> callable(some_functions.item(1))\nTrue",
         "failure_message": "❌ The second element of your array is not a function",
         "hidden": false,
         "locked": false,
         "points": 0.25
        },
        {
         "code": ">>> callable(some_functions.item(2))\nTrue",
         "failure_message": "❌ The second element of your array is not a function",
         "hidden": false,
         "locked": false,
         "points": 0.25
        }
       ],
       "scored": true,
       "setup": "",
       "teardown": "",
       "type": "doctest"
      }
     ]
    },
    "q3_2": {
     "name": "q3_2",
     "points": null,
     "suites": [
      {
       "cases": [
        {
         "code": ">>> type(compensation) == Table\nTrue",
         "failure_message": "❌ You did not assign a Table to the variable `compensation`",
         "hidden": false,
         "locked": false,
         "points": 0.25
        },
        {
         "code": ">>> 'Total Pay ($)' in compensation.labels\nTrue",
         "failure_message": "❌ You either didn't add the 'Total Pay ($)' column, or you mislabeled it.",
         "hidden": false,
         "locked": false,
         "points": 0.25
        },
        {
         "code": ">>> np.isclose(np.std(compensation.column('Total Pay ($)')), 5603114.657293265)\nTrue",
         "failure_message": "❌ 'Total Pay ($)' has incorrect values in it",
         "hidden": false,
         "locked": false,
         "points": 0.5
        }
       ],
       "scored": true,
       "setup": "",
       "teardown": "",
       "type": "doctest"
      }
     ]
    },
    "q3_3": {
     "name": "q3_3",
     "points": null,
     "suites": [
      {
       "cases": [
        {
         "code": ">>> np.isclose(average_total_pay, 6332531.852459016)\nTrue",
         "failure_message": "❌ You did not compute the correct average CEO pay",
         "hidden": false,
         "locked": false,
         "points": 1
        }
       ],
       "scored": true,
       "setup": "",
       "teardown": "",
       "type": "doctest"
      }
     ]
    },
    "q3_4": {
     "name": "q3_4",
     "points": null,
     "suites": [
      {
       "cases": [
        {
         "code": ">>> type(salary_proportion) == np.ndarray\nTrue",
         "failure_message": "❌ You did not assign an array to the variable `salary_proportion`",
         "hidden": false,
         "locked": false,
         "points": 0.25
        },
        {
         "code": ">>> len(salary_proportion)\n61",
         "failure_message": "❌ Your array does not have the correct number of elements",
         "hidden": false,
         "locked": false,
         "points": 0.25
        },
        {
         "code": ">>> np.isclose(np.std(salary_proportion), 0.16830109433872464)\nTrue",
         "failure_message": "❌ Your array does not have the correct proportions. Are you dividing Salary by Total Pay?",
         "hidden": false,
         "locked": false,
         "points": 0.5
        }
       ],
       "scored": true,
       "setup": "",
       "teardown": "",
       "type": "doctest"
      }
     ]
    },
    "q3_5": {
     "name": "q3_5",
     "points": null,
     "suites": [
      {
       "cases": [
        {
         "code": ">>> type(ceo_salary_percent) == Table\nTrue",
         "failure_message": "❌ You did not assign a Table to the variable `ceo_salary_percent`",
         "hidden": false,
         "locked": false,
         "points": 0.25
        },
        {
         "code": ">>> 'Salary (%)' in ceo_salary_percent.labels\nTrue",
         "failure_message": "❌ You either didn't add the 'Salary (%)' column, or you mislabeled it.",
         "hidden": false,
         "locked": false,
         "points": 0.25
        },
        {
         "code": ">>> np.isclose(np.std(ceo_salary_percent.column('Salary (%)')), 0.16830109433872464)\nTrue",
         "failure_message": "❌ Your column does not have the correct proportions. Are you dividing Salary by Total Pay?",
         "hidden": false,
         "locked": false,
         "points": 0.5
        }
       ],
       "scored": true,
       "setup": "",
       "teardown": "",
       "type": "doctest"
      }
     ]
    },
    "q4_2": {
     "name": "q4_2",
     "points": null,
     "suites": [
      {
       "cases": [
        {
         "code": ">>> num_ceos_more_than_10_million\n12",
         "failure_message": "❌ You did not calculate the correct number of CEOs who make more that 10 million dollars in Total Pay",
         "hidden": false,
         "locked": false,
         "points": 1
        }
       ],
       "scored": true,
       "setup": "",
       "teardown": "",
       "type": "doctest"
      }
     ]
    }
   }
  },
  "widgets": {
   "application/vnd.jupyter.widget-state+json": {
    "state": {
     "00d3b990f96b4bddb8ef49d1d7369bdd": {
      "model_module": "@jupyter-widgets/base",
      "model_module_version": "2.0.0",
      "model_name": "LayoutModel",
      "state": {
       "_model_module": "@jupyter-widgets/base",
       "_model_module_version": "2.0.0",
       "_model_name": "LayoutModel",
       "_view_count": null,
       "_view_module": "@jupyter-widgets/base",
       "_view_module_version": "2.0.0",
       "_view_name": "LayoutView",
       "align_content": null,
       "align_items": null,
       "align_self": null,
       "border_bottom": null,
       "border_left": null,
       "border_right": null,
       "border_top": null,
       "bottom": null,
       "display": null,
       "flex": null,
       "flex_flow": null,
       "grid_area": null,
       "grid_auto_columns": null,
       "grid_auto_flow": null,
       "grid_auto_rows": null,
       "grid_column": null,
       "grid_gap": null,
       "grid_row": null,
       "grid_template_areas": null,
       "grid_template_columns": null,
       "grid_template_rows": null,
       "height": null,
       "justify_content": null,
       "justify_items": null,
       "left": null,
       "margin": null,
       "max_height": null,
       "max_width": null,
       "min_height": null,
       "min_width": null,
       "object_fit": null,
       "object_position": null,
       "order": null,
       "overflow": null,
       "padding": null,
       "right": null,
       "top": null,
       "visibility": null,
       "width": null
      }
     },
     "1a1544ee22824591beaece22f180be4d": {
      "model_module": "@jupyter-widgets/base",
      "model_module_version": "2.0.0",
      "model_name": "LayoutModel",
      "state": {
       "_model_module": "@jupyter-widgets/base",
       "_model_module_version": "2.0.0",
       "_model_name": "LayoutModel",
       "_view_count": null,
       "_view_module": "@jupyter-widgets/base",
       "_view_module_version": "2.0.0",
       "_view_name": "LayoutView",
       "align_content": null,
       "align_items": null,
       "align_self": null,
       "border_bottom": null,
       "border_left": null,
       "border_right": null,
       "border_top": null,
       "bottom": null,
       "display": null,
       "flex": null,
       "flex_flow": null,
       "grid_area": null,
       "grid_auto_columns": null,
       "grid_auto_flow": null,
       "grid_auto_rows": null,
       "grid_column": null,
       "grid_gap": null,
       "grid_row": null,
       "grid_template_areas": null,
       "grid_template_columns": null,
       "grid_template_rows": null,
       "height": null,
       "justify_content": null,
       "justify_items": null,
       "left": null,
       "margin": null,
       "max_height": null,
       "max_width": null,
       "min_height": null,
       "min_width": null,
       "object_fit": null,
       "object_position": null,
       "order": null,
       "overflow": null,
       "padding": null,
       "right": null,
       "top": null,
       "visibility": null,
       "width": null
      }
     },
     "1fefc4043d334feabb9a912fbc35a724": {
      "model_module": "@jupyter-widgets/output",
      "model_module_version": "1.0.0",
      "model_name": "OutputModel",
      "state": {
       "_dom_classes": [],
       "_model_module": "@jupyter-widgets/output",
       "_model_module_version": "1.0.0",
       "_model_name": "OutputModel",
       "_view_count": null,
       "_view_module": "@jupyter-widgets/output",
       "_view_module_version": "1.0.0",
       "_view_name": "OutputView",
       "layout": "IPY_MODEL_1a1544ee22824591beaece22f180be4d",
       "msg_id": "",
       "outputs": [
        {
         "name": "stdout",
         "output_type": "stream",
         "text": "Year number 1 for total gross movie sales was 2015\n"
        }
       ],
       "tabbable": null,
       "tooltip": null
      }
     },
     "22378abc07ad48bc8bff3972fedc4cc8": {
      "model_module": "@jupyter-widgets/base",
      "model_module_version": "2.0.0",
      "model_name": "LayoutModel",
      "state": {
       "_model_module": "@jupyter-widgets/base",
       "_model_module_version": "2.0.0",
       "_model_name": "LayoutModel",
       "_view_count": null,
       "_view_module": "@jupyter-widgets/base",
       "_view_module_version": "2.0.0",
       "_view_name": "LayoutView",
       "align_content": null,
       "align_items": null,
       "align_self": null,
       "border_bottom": null,
       "border_left": null,
       "border_right": null,
       "border_top": null,
       "bottom": null,
       "display": null,
       "flex": null,
       "flex_flow": null,
       "grid_area": null,
       "grid_auto_columns": null,
       "grid_auto_flow": null,
       "grid_auto_rows": null,
       "grid_column": null,
       "grid_gap": null,
       "grid_row": null,
       "grid_template_areas": null,
       "grid_template_columns": null,
       "grid_template_rows": null,
       "height": null,
       "justify_content": null,
       "justify_items": null,
       "left": null,
       "margin": null,
       "max_height": null,
       "max_width": null,
       "min_height": null,
       "min_width": null,
       "object_fit": null,
       "object_position": null,
       "order": null,
       "overflow": null,
       "padding": null,
       "right": null,
       "top": null,
       "visibility": null,
       "width": null
      }
     },
     "2d506018ea49442fa36d82dbabddc767": {
      "model_module": "@jupyter-widgets/controls",
      "model_module_version": "2.0.0",
      "model_name": "VBoxModel",
      "state": {
       "_dom_classes": [
        "widget-interact"
       ],
       "_model_module": "@jupyter-widgets/controls",
       "_model_module_version": "2.0.0",
       "_model_name": "VBoxModel",
       "_view_count": null,
       "_view_module": "@jupyter-widgets/controls",
       "_view_module_version": "2.0.0",
       "_view_name": "VBoxView",
       "box_style": "",
       "children": [
        "IPY_MODEL_cde67a2c9f5946cc9be3135c9368ec56",
        "IPY_MODEL_1fefc4043d334feabb9a912fbc35a724"
       ],
       "layout": "IPY_MODEL_3082f0adc6d94586b3999e11996ce37a",
       "tabbable": null,
       "tooltip": null
      }
     },
     "3082f0adc6d94586b3999e11996ce37a": {
      "model_module": "@jupyter-widgets/base",
      "model_module_version": "2.0.0",
      "model_name": "LayoutModel",
      "state": {
       "_model_module": "@jupyter-widgets/base",
       "_model_module_version": "2.0.0",
       "_model_name": "LayoutModel",
       "_view_count": null,
       "_view_module": "@jupyter-widgets/base",
       "_view_module_version": "2.0.0",
       "_view_name": "LayoutView",
       "align_content": null,
       "align_items": null,
       "align_self": null,
       "border_bottom": null,
       "border_left": null,
       "border_right": null,
       "border_top": null,
       "bottom": null,
       "display": null,
       "flex": null,
       "flex_flow": null,
       "grid_area": null,
       "grid_auto_columns": null,
       "grid_auto_flow": null,
       "grid_auto_rows": null,
       "grid_column": null,
       "grid_gap": null,
       "grid_row": null,
       "grid_template_areas": null,
       "grid_template_columns": null,
       "grid_template_rows": null,
       "height": null,
       "justify_content": null,
       "justify_items": null,
       "left": null,
       "margin": null,
       "max_height": null,
       "max_width": null,
       "min_height": null,
       "min_width": null,
       "object_fit": null,
       "object_position": null,
       "order": null,
       "overflow": null,
       "padding": null,
       "right": null,
       "top": null,
       "visibility": null,
       "width": null
      }
     },
     "3beb334aabed4b439c03ebc2d6f45fc0": {
      "model_module": "@jupyter-widgets/controls",
      "model_module_version": "2.0.0",
      "model_name": "VBoxModel",
      "state": {
       "_dom_classes": [
        "widget-interact"
       ],
       "_model_module": "@jupyter-widgets/controls",
       "_model_module_version": "2.0.0",
       "_model_name": "VBoxModel",
       "_view_count": null,
       "_view_module": "@jupyter-widgets/controls",
       "_view_module_version": "2.0.0",
       "_view_name": "VBoxView",
       "box_style": "",
       "children": [
        "IPY_MODEL_f9fc03670fab4b138e5f532b47b27f83",
        "IPY_MODEL_47ed054115044911b5b8ed40636454cf"
       ],
       "layout": "IPY_MODEL_91d3fc97d8a6492e8ec786bb8d203c2a",
       "tabbable": null,
       "tooltip": null
      }
     },
     "3dadabebf2f14818aadca544ce4a0b77": {
      "model_module": "@jupyter-widgets/base",
      "model_module_version": "2.0.0",
      "model_name": "LayoutModel",
      "state": {
       "_model_module": "@jupyter-widgets/base",
       "_model_module_version": "2.0.0",
       "_model_name": "LayoutModel",
       "_view_count": null,
       "_view_module": "@jupyter-widgets/base",
       "_view_module_version": "2.0.0",
       "_view_name": "LayoutView",
       "align_content": null,
       "align_items": null,
       "align_self": null,
       "border_bottom": null,
       "border_left": null,
       "border_right": null,
       "border_top": null,
       "bottom": null,
       "display": null,
       "flex": null,
       "flex_flow": null,
       "grid_area": null,
       "grid_auto_columns": null,
       "grid_auto_flow": null,
       "grid_auto_rows": null,
       "grid_column": null,
       "grid_gap": null,
       "grid_row": null,
       "grid_template_areas": null,
       "grid_template_columns": null,
       "grid_template_rows": null,
       "height": null,
       "justify_content": null,
       "justify_items": null,
       "left": null,
       "margin": null,
       "max_height": null,
       "max_width": null,
       "min_height": null,
       "min_width": null,
       "object_fit": null,
       "object_position": null,
       "order": null,
       "overflow": null,
       "padding": null,
       "right": null,
       "top": null,
       "visibility": null,
       "width": null
      }
     },
     "47ed054115044911b5b8ed40636454cf": {
      "model_module": "@jupyter-widgets/output",
      "model_module_version": "1.0.0",
      "model_name": "OutputModel",
      "state": {
       "_dom_classes": [],
       "_model_module": "@jupyter-widgets/output",
       "_model_module_version": "1.0.0",
       "_model_name": "OutputModel",
       "_view_count": null,
       "_view_module": "@jupyter-widgets/output",
       "_view_module_version": "1.0.0",
       "_view_name": "OutputView",
       "layout": "IPY_MODEL_00d3b990f96b4bddb8ef49d1d7369bdd",
       "msg_id": "",
       "outputs": [
        {
         "name": "stdout",
         "output_type": "stream",
         "text": "Year number 5 for total gross movie sales was 2010\n"
        }
       ],
       "tabbable": null,
       "tooltip": null
      }
     },
     "907e2d4654f440a9859dcac7e5fd6b97": {
      "model_module": "@jupyter-widgets/controls",
      "model_module_version": "2.0.0",
      "model_name": "DescriptionStyleModel",
      "state": {
       "_model_module": "@jupyter-widgets/controls",
       "_model_module_version": "2.0.0",
       "_model_name": "DescriptionStyleModel",
       "_view_count": null,
       "_view_module": "@jupyter-widgets/base",
       "_view_module_version": "2.0.0",
       "_view_name": "StyleView",
       "description_width": ""
      }
     },
     "91d3fc97d8a6492e8ec786bb8d203c2a": {
      "model_module": "@jupyter-widgets/base",
      "model_module_version": "2.0.0",
      "model_name": "LayoutModel",
      "state": {
       "_model_module": "@jupyter-widgets/base",
       "_model_module_version": "2.0.0",
       "_model_name": "LayoutModel",
       "_view_count": null,
       "_view_module": "@jupyter-widgets/base",
       "_view_module_version": "2.0.0",
       "_view_name": "LayoutView",
       "align_content": null,
       "align_items": null,
       "align_self": null,
       "border_bottom": null,
       "border_left": null,
       "border_right": null,
       "border_top": null,
       "bottom": null,
       "display": null,
       "flex": null,
       "flex_flow": null,
       "grid_area": null,
       "grid_auto_columns": null,
       "grid_auto_flow": null,
       "grid_auto_rows": null,
       "grid_column": null,
       "grid_gap": null,
       "grid_row": null,
       "grid_template_areas": null,
       "grid_template_columns": null,
       "grid_template_rows": null,
       "height": null,
       "justify_content": null,
       "justify_items": null,
       "left": null,
       "margin": null,
       "max_height": null,
       "max_width": null,
       "min_height": null,
       "min_width": null,
       "object_fit": null,
       "object_position": null,
       "order": null,
       "overflow": null,
       "padding": null,
       "right": null,
       "top": null,
       "visibility": null,
       "width": null
      }
     },
     "cde67a2c9f5946cc9be3135c9368ec56": {
      "model_module": "@jupyter-widgets/controls",
      "model_module_version": "2.0.0",
      "model_name": "DropdownModel",
      "state": {
       "_dom_classes": [],
       "_model_module": "@jupyter-widgets/controls",
       "_model_module_version": "2.0.0",
       "_model_name": "DropdownModel",
       "_options_labels": [
        "1",
        "2",
        "3",
        "4",
        "5",
        "6",
        "7",
        "8",
        "9"
       ],
       "_view_count": null,
       "_view_module": "@jupyter-widgets/controls",
       "_view_module_version": "2.0.0",
       "_view_name": "DropdownView",
       "description": "k",
       "description_allow_html": false,
       "disabled": false,
       "index": 0,
       "layout": "IPY_MODEL_3dadabebf2f14818aadca544ce4a0b77",
       "style": "IPY_MODEL_907e2d4654f440a9859dcac7e5fd6b97",
       "tabbable": null,
       "tooltip": null
      }
     },
     "cf31d1ad1a7b475cb020ac05538fa8fc": {
      "model_module": "@jupyter-widgets/controls",
      "model_module_version": "2.0.0",
      "model_name": "SliderStyleModel",
      "state": {
       "_model_module": "@jupyter-widgets/controls",
       "_model_module_version": "2.0.0",
       "_model_name": "SliderStyleModel",
       "_view_count": null,
       "_view_module": "@jupyter-widgets/base",
       "_view_module_version": "2.0.0",
       "_view_name": "StyleView",
       "description_width": "",
       "handle_color": null
      }
     },
     "f9fc03670fab4b138e5f532b47b27f83": {
      "model_module": "@jupyter-widgets/controls",
      "model_module_version": "2.0.0",
      "model_name": "IntSliderModel",
      "state": {
       "_dom_classes": [],
       "_model_module": "@jupyter-widgets/controls",
       "_model_module_version": "2.0.0",
       "_model_name": "IntSliderModel",
       "_view_count": null,
       "_view_module": "@jupyter-widgets/controls",
       "_view_module_version": "2.0.0",
       "_view_name": "IntSliderView",
       "behavior": "drag-tap",
       "continuous_update": true,
       "description": "k",
       "description_allow_html": false,
       "disabled": false,
       "layout": "IPY_MODEL_22378abc07ad48bc8bff3972fedc4cc8",
       "max": 10,
       "min": 1,
       "orientation": "horizontal",
       "readout": true,
       "readout_format": "d",
       "step": 1,
       "style": "IPY_MODEL_cf31d1ad1a7b475cb020ac05538fa8fc",
       "tabbable": null,
       "tooltip": null,
       "value": 5
      }
     }
    },
    "version_major": 2,
    "version_minor": 0
   }
  }
 },
 "nbformat": 4,
 "nbformat_minor": 4
}
