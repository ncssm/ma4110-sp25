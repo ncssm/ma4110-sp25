{
 "cells": [
  {
   "cell_type": "code",
   "execution_count": null,
   "id": "2e72d1aa",
   "metadata": {
    "deletable": false,
    "editable": false
   },
   "outputs": [],
   "source": [
    "# Initialize Otter\n",
    "import otter\n",
    "grader = otter.Notebook(\"hw02.ipynb\")"
   ]
  },
  {
   "cell_type": "markdown",
   "id": "e4d4752a-689a-47fe-b049-23dc37c916cf",
   "metadata": {},
   "source": [
    "# Homework 02: Arrays and Tables\n",
    "\n",
    "Please complete this notebook by filling in the cells provided. Before you begin, execute the following cell to load the provided modules. Each time you start your server, you will need to execute this cell again to load the modules."
   ]
  },
  {
   "cell_type": "code",
   "execution_count": null,
   "id": "77ae0d61-8ab7-4c94-9d2d-fded154d3e93",
   "metadata": {
    "execution": {
     "iopub.execute_input": "2025-01-31T20:51:33.128525Z",
     "iopub.status.busy": "2025-01-31T20:51:33.127815Z",
     "iopub.status.idle": "2025-01-31T20:51:35.336580Z",
     "shell.execute_reply": "2025-01-31T20:51:35.335424Z"
    }
   },
   "outputs": [],
   "source": [
    "# Don't change this cell; just run it. \n",
    "import numpy as np\n",
    "from datascience import *"
   ]
  },
  {
   "cell_type": "markdown",
   "id": "9dcd641f-098c-4e73-a66a-b3b6aae30043",
   "metadata": {},
   "source": [
    "**Helpful Resource:**\n",
    "- [Python Reference](http://data8.org/sp22/python-reference.html): Cheat sheet of helpful array & table methods used in this course.\n",
    "\n",
    "**Recommended Reading:**\n",
    "- [What is Data Science](http://www.inferentialthinking.com/chapters/01/what-is-data-science.html)\n",
    "- [Causality and Experiments](http://www.inferentialthinking.com/chapters/02/causality-and-experiments.html) \n",
    "- [Programming in Python](http://www.inferentialthinking.com/chapters/03/programming-in-python.html)\n",
    "\n",
    "For all problems that you must write explanations and sentences for, you **must** provide your answer in the designated space. Moreover, throughout this homework and all future ones, please be sure to not re-assign variables throughout the notebook! For example, if you use `max_temperature` in your answer to one question, do not reassign it later on. Otherwise, you will fail tests that you thought you were passing previously!\n",
    "\n",
    "**Note: This homework has hidden tests on it. Additional tests will be run once your homework is submitted for grading. While you may pass all the tests you have access to before submission, you may not earn full credit if you do not pass the hidden tests as well.**. \n",
    "\n",
    "Many of the tests you have access to before submitting only test to ensure you have given an answer that is formatted correctly and/or you have given an answer that *could* make sense in context. For example, a test you have access to while completing the assignment may check that you selected a valid choice for a multiple choice problem (1, 2, or 3) or that your answer is an integer between 0 and 50 if asked to count a subset of states in the United States. The tests that are run after submission will evaluate your work for accuracy. **Do not assume that just because all your tests pass before submission means that your answers are correct!**\n",
    "\n",
    "Consult with your teacher and course syllabus for information and policies regarding appropriate collaboration with other students, appropriate use of AI tools, and submission of late work."
   ]
  },
  {
   "cell_type": "markdown",
   "id": "0d0a1ca0-a54b-485f-a5b1-49b3b01a7ef0",
   "metadata": {},
   "source": [
    "## 1. Creating Arrays"
   ]
  },
  {
   "cell_type": "markdown",
   "id": "536d9dca-0f54-4548-a14c-d37d16f4a47d",
   "metadata": {
    "deletable": false,
    "editable": false
   },
   "source": [
    "### Question 1.1\n",
    "\n",
    "Make an array called `rainbow` containing the following seven strings: \"Red\", \"Orange\", \"Yellow\", \"Green\", \"Blue\", \"Indigo\", \"and Violet\"."
   ]
  },
  {
   "cell_type": "code",
   "execution_count": null,
   "id": "c58b9950-a5c1-495c-b8e8-a3847b5d1eb7",
   "metadata": {
    "execution": {
     "iopub.execute_input": "2025-01-31T20:51:35.340197Z",
     "iopub.status.busy": "2025-01-31T20:51:35.339756Z",
     "iopub.status.idle": "2025-01-31T20:51:35.347415Z",
     "shell.execute_reply": "2025-01-31T20:51:35.346737Z"
    },
    "tags": []
   },
   "outputs": [],
   "source": [
    "rainbow = ...\n",
    "rainbow"
   ]
  },
  {
   "cell_type": "code",
   "execution_count": null,
   "id": "3212faf8",
   "metadata": {
    "deletable": false,
    "editable": false
   },
   "outputs": [],
   "source": [
    "grader.check(\"q1_1\")"
   ]
  },
  {
   "cell_type": "markdown",
   "id": "3af58a07-ab1b-4423-ad54-103624fed4cb",
   "metadata": {
    "deletable": false,
    "editable": false
   },
   "source": [
    "### Question 1.2\n",
    "2\n",
    "\n",
    "Make an **array** called `just_numbers` containing the following numbers (in the given order):\n",
    "\n",
    "1. $2^{\\tan(13)}$\n",
    "2. $16^{0.25}$\n",
    "3. $\\cos(12)$\n",
    "4. $-8$\n",
    "   \n",
    "\n",
    "**Hint:** `tan` and `cos` are functions in the `math` module. Importing modules is covered in a previous lab! You should import the module in your solution cell below.\n",
    "\n",
    "**Note:** Python lists are different/behave differently than numpy arrays. In this course, we use `numpy` arrays, so please make an **array**, not a python list."
   ]
  },
  {
   "cell_type": "code",
   "execution_count": null,
   "id": "c040087a-c476-41bb-b0a5-0b0942a528d1",
   "metadata": {
    "execution": {
     "iopub.execute_input": "2025-01-31T20:51:35.393127Z",
     "iopub.status.busy": "2025-01-31T20:51:35.392826Z",
     "iopub.status.idle": "2025-01-31T20:51:35.399056Z",
     "shell.execute_reply": "2025-01-31T20:51:35.398265Z"
    },
    "tags": []
   },
   "outputs": [],
   "source": [
    "# Our solution involved one extra line of code before creating\n",
    "# just_numbers.\n",
    "...\n",
    "just_numbers = ...\n",
    "just_numbers"
   ]
  },
  {
   "cell_type": "code",
   "execution_count": null,
   "id": "2154f5f6",
   "metadata": {
    "deletable": false,
    "editable": false
   },
   "outputs": [],
   "source": [
    "grader.check(\"q1_2\")"
   ]
  },
  {
   "cell_type": "markdown",
   "id": "910da2e7-3b30-46f8-b1c3-4bad9d509950",
   "metadata": {},
   "source": [
    "### `join`\n",
    "All strings in Python have a built-in method called `join`.  The `join` method takes only one argument as an input, a collection (like an array) of strings. The `join` method returns a single string as an output. \n",
    "\n",
    "The output string of `a_string.join(an_array)` is a single string that's the [concatenation](https://en.wikipedia.org/wiki/Concatenation) (\"putting together\") of all the strings in `an_array`, with `a_string` inserted in between each string from the array. Run the cell below to see it in action:"
   ]
  },
  {
   "cell_type": "code",
   "execution_count": null,
   "id": "758a1ce1-2a4a-475b-bb94-a31a76a6e636",
   "metadata": {
    "execution": {
     "iopub.execute_input": "2025-01-31T20:51:35.449015Z",
     "iopub.status.busy": "2025-01-31T20:51:35.448741Z",
     "iopub.status.idle": "2025-01-31T20:51:35.454326Z",
     "shell.execute_reply": "2025-01-31T20:51:35.453504Z"
    }
   },
   "outputs": [],
   "source": [
    "area_code = '828'\n",
    "prefix = '347'\n",
    "line_number = '9100'\n",
    "\n",
    "phone_number = '-'.join(make_array(area_code, prefix, line_number))\n",
    "phone_number"
   ]
  },
  {
   "cell_type": "markdown",
   "id": "5c6e6551-559e-4914-8827-8b573b6feb32",
   "metadata": {},
   "source": [
    "Notice how the single dash, `-`, was inserted between each of the three strings contained in the array to generate the phone number for the NCSSM-Morganton front desk."
   ]
  },
  {
   "cell_type": "markdown",
   "id": "230973a3-fa2b-430d-9351-c2305d0d5109",
   "metadata": {
    "deletable": false,
    "editable": false
   },
   "source": [
    "### Question 1.3\n",
    "\n",
    "Use the array `rainbow` and the method `join` to make two strings:\n",
    "\n",
    "1. \"Red Orange Yellow Green Blue Indigo and Violet\" (call this one `without_commas`)\n",
    "2. \"Red, Orange, Yellow, Green, Blue, Indigo, and Violet\" (call this one `with_commas`)\n",
    "\n",
    "**Hint:** If you're still not sure what `join` does, first try just calling, for example, `\"Hues\".join(rainbow)` in a new code cell below."
   ]
  },
  {
   "cell_type": "code",
   "execution_count": null,
   "id": "49aba505-5318-4bbc-b13c-0a791f155023",
   "metadata": {
    "execution": {
     "iopub.execute_input": "2025-01-31T20:51:35.457327Z",
     "iopub.status.busy": "2025-01-31T20:51:35.457054Z",
     "iopub.status.idle": "2025-01-31T20:51:35.461550Z",
     "shell.execute_reply": "2025-01-31T20:51:35.460700Z"
    },
    "tags": []
   },
   "outputs": [],
   "source": [
    "without_commas = ...\n",
    "with_commas = ...\n",
    "\n",
    "print('without commas: ', without_commas)\n",
    "print('with commas: ', with_commas)"
   ]
  },
  {
   "cell_type": "code",
   "execution_count": null,
   "id": "d4f24362",
   "metadata": {
    "deletable": false,
    "editable": false
   },
   "outputs": [],
   "source": [
    "grader.check(\"q1_3\")"
   ]
  },
  {
   "cell_type": "markdown",
   "id": "2ed04326-6753-46fa-ab12-e5988551a2c2",
   "metadata": {},
   "source": [
    "## 2. Indexing Arrays\n",
    "\n",
    "These exercises give you practice accessing individual elements of arrays.  In Python (and in many programming languages), elements are accessed by *index*, so the first element is the element at index 0.\n",
    "\n",
    "**Note:** If you have previous coding experience, you may be familiar with bracket notation. **DO NOT** use bracket notation when indexing (i.e. `arr[0]`), as this can yield different data type outputs than what we will be expecting. This can cause you to fail an autograder test.**\n",
    "\n",
    "Be sure to refer to the [Python Reference](http://data8.org/sp22/python-reference.html) on the website if you feel stuck!"
   ]
  },
  {
   "cell_type": "markdown",
   "id": "b028b955-1eef-4964-b574-83dd0daab03c",
   "metadata": {
    "deletable": false,
    "editable": false
   },
   "source": [
    "### Question 2.1\n",
    "\n",
    "Create an array called `some_integers` that includes the intger 14, -3, -10, 27, 46, in that order. Set `second_element` to the second element of `some_integers` using the `item` method."
   ]
  },
  {
   "cell_type": "code",
   "execution_count": null,
   "id": "def7098b-b601-4b7d-b00b-0a883adfe082",
   "metadata": {
    "execution": {
     "iopub.execute_input": "2025-01-31T20:51:35.542723Z",
     "iopub.status.busy": "2025-01-31T20:51:35.542373Z",
     "iopub.status.idle": "2025-01-31T20:51:35.547706Z",
     "shell.execute_reply": "2025-01-31T20:51:35.546858Z"
    },
    "tags": []
   },
   "outputs": [],
   "source": [
    "some_integers = ...\n",
    "second_element = ...\n",
    "second_element"
   ]
  },
  {
   "cell_type": "code",
   "execution_count": null,
   "id": "b4327e3e",
   "metadata": {
    "deletable": false,
    "editable": false
   },
   "outputs": [],
   "source": [
    "grader.check(\"q2_1\")"
   ]
  },
  {
   "cell_type": "markdown",
   "id": "01f9d8a3-3486-4276-a71e-d185a892fe93",
   "metadata": {
    "deletable": false,
    "editable": false
   },
   "source": [
    "### Question 2.2\n",
    "\n",
    "The next cell creates a table that displays some information about the elements of `some_integers` and their order.  Run the cell to see the partially-completed table, then fill in the missing information (the cells that say \"Ellipsis\") by assigning `blank_a`, `blank_b`, `blank_c`, and `blank_d` to the correct elements in the table.\n",
    "\n",
    "**Hint:** Replace the ... with strings or numbers to make the Table consistent with the array from the previous problem."
   ]
  },
  {
   "cell_type": "code",
   "execution_count": null,
   "id": "039a048d-4cb2-4a41-93ca-aa91dd588995",
   "metadata": {
    "execution": {
     "iopub.execute_input": "2025-01-31T20:51:35.583396Z",
     "iopub.status.busy": "2025-01-31T20:51:35.583114Z",
     "iopub.status.idle": "2025-01-31T20:51:35.590373Z",
     "shell.execute_reply": "2025-01-31T20:51:35.589563Z"
    },
    "tags": []
   },
   "outputs": [],
   "source": [
    "blank_a = ...\n",
    "blank_b = ...\n",
    "blank_c = ...\n",
    "blank_d = ...\n",
    "\n",
    "# Don't change anything below this line!\n",
    "elements_of_some_integers = Table().with_columns(\n",
    "    \"English name for position\", make_array(blank_a, \"second\", \"third\", blank_b, \"fifth\"),\n",
    "    \"Index\",                     make_array(blank_c, 1, blank_d, 3, 4),\n",
    "    \"Element\",                   some_integers)\n",
    "elements_of_some_integers"
   ]
  },
  {
   "cell_type": "code",
   "execution_count": null,
   "id": "172c7f14",
   "metadata": {
    "deletable": false,
    "editable": false
   },
   "outputs": [],
   "source": [
    "grader.check(\"q2_2\")"
   ]
  },
  {
   "cell_type": "markdown",
   "id": "5178e8b6-2264-449b-8b9f-349969bdb0b9",
   "metadata": {
    "deletable": false,
    "editable": false
   },
   "source": [
    "### Question 2.3 \n",
    "\n",
    "You'll sometimes want to find the *last* element of an array.  Suppose an array has 1024 elements.  What is the index of its last element?"
   ]
  },
  {
   "cell_type": "code",
   "execution_count": null,
   "id": "fdd135ac-2d7e-44c7-a2bb-f60e01e2eb82",
   "metadata": {
    "execution": {
     "iopub.execute_input": "2025-01-31T20:51:35.651675Z",
     "iopub.status.busy": "2025-01-31T20:51:35.651403Z",
     "iopub.status.idle": "2025-01-31T20:51:35.655347Z",
     "shell.execute_reply": "2025-01-31T20:51:35.654371Z"
    },
    "tags": []
   },
   "outputs": [],
   "source": [
    "index_of_last_element = ..."
   ]
  },
  {
   "cell_type": "code",
   "execution_count": null,
   "id": "94bd4588",
   "metadata": {
    "deletable": false,
    "editable": false
   },
   "outputs": [],
   "source": [
    "grader.check(\"q2_3\")"
   ]
  },
  {
   "cell_type": "markdown",
   "id": "47f58501-f2ce-4fa4-80ba-79a229f7d85c",
   "metadata": {},
   "source": [
    "More often than not, you don't know the number of elements in an array, also known as the array's *length*. For example, it might be a large data set you found on the Internet and aren't too familiar with. The function `len` takes a single argument, an array (or any collection of objects in Python), and returns the `len`gth of that array. The length will always be returned as an integer."
   ]
  },
  {
   "cell_type": "markdown",
   "id": "e2cb3f82-a0a6-4bda-b3be-2489ebfc8486",
   "metadata": {},
   "source": [
    "## 3. Basic Array Arithmetic"
   ]
  },
  {
   "cell_type": "markdown",
   "id": "e16e2abe-6b51-4af2-8e54-4fbc4ab34965",
   "metadata": {
    "deletable": false,
    "editable": false
   },
   "source": [
    "### Question 3.1\n",
    "\n",
    "Divide the numbers `28`, `-2,882`, `2,828,242,428`, and `380` by `15`. Assign each variable below such that `first_quotient` is assigned to the result of $28 \\div 15$, `second_quotient` is assigned to the result of $-2,882 \\div 15$, and so on. \n",
    "\n",
    "For this question, **don't** use arrays."
   ]
  },
  {
   "cell_type": "code",
   "execution_count": null,
   "id": "8c8c34f5-109e-4e09-bced-926f668b64da",
   "metadata": {
    "execution": {
     "iopub.execute_input": "2025-01-31T20:51:35.666017Z",
     "iopub.status.busy": "2025-01-31T20:51:35.665741Z",
     "iopub.status.idle": "2025-01-31T20:51:35.670084Z",
     "shell.execute_reply": "2025-01-31T20:51:35.669367Z"
    },
    "tags": []
   },
   "outputs": [],
   "source": [
    "first_quotient = ...\n",
    "second_quotient = ...\n",
    "third_quotient = ...\n",
    "fourth_quotient = ...\n",
    "print(first_quotient, second_quotient, third_quotient, fourth_quotient)"
   ]
  },
  {
   "cell_type": "code",
   "execution_count": null,
   "id": "d4bf1a7b",
   "metadata": {
    "deletable": false,
    "editable": false
   },
   "outputs": [],
   "source": [
    "grader.check(\"q3_1\")"
   ]
  },
  {
   "cell_type": "markdown",
   "id": "171e9879-94e8-4469-a8a1-9e1ca01f5888",
   "metadata": {
    "deletable": false,
    "editable": false
   },
   "source": [
    "### Question 3.2\n",
    "\n",
    "Now, do the same calculation, but using an array called `numbers` that contains the 4 original numbers (`28`, `-2,882`, `2,828,242,428`, and `380`) and only a single division (`/`) operator.  Store the 4 results in an array named `quotients`."
   ]
  },
  {
   "cell_type": "code",
   "execution_count": null,
   "id": "d6eccccc-5d36-4c7f-8800-c8cd0a13434c",
   "metadata": {
    "execution": {
     "iopub.execute_input": "2025-01-31T20:51:35.704298Z",
     "iopub.status.busy": "2025-01-31T20:51:35.704031Z",
     "iopub.status.idle": "2025-01-31T20:51:35.734922Z",
     "shell.execute_reply": "2025-01-31T20:51:35.708736Z"
    },
    "tags": []
   },
   "outputs": [],
   "source": [
    "numbers = ...\n",
    "quotients = ...\n",
    "quotients"
   ]
  },
  {
   "cell_type": "code",
   "execution_count": null,
   "id": "70edf480",
   "metadata": {
    "deletable": false,
    "editable": false
   },
   "outputs": [],
   "source": [
    "grader.check(\"q3_2\")"
   ]
  },
  {
   "cell_type": "markdown",
   "id": "24cd9aa1-5c6f-452b-b1b2-8c4562354446",
   "metadata": {
    "deletable": false,
    "editable": false
   },
   "source": [
    "### Question 3.3\n",
    "\n",
    "Oops, we made a typo!  Instead of dividing by 15, we wanted to **multiply** each number by 15.  Compute the correct products in the cell below using array arithmetic and store them in an array called `products`. The purpose of this question is to help you realize that it's much easier to perform (and in this case, change) arithmetic on an array all at once, rather than having to do so once for each element in the array. Notice that your job is going to be really easy if you previously defined an array containing the 4 numbers."
   ]
  },
  {
   "cell_type": "code",
   "execution_count": null,
   "id": "0dad0231-d440-42c3-a3eb-12f4791fb26c",
   "metadata": {
    "execution": {
     "iopub.execute_input": "2025-01-31T20:51:35.766607Z",
     "iopub.status.busy": "2025-01-31T20:51:35.766290Z",
     "iopub.status.idle": "2025-01-31T20:51:35.771614Z",
     "shell.execute_reply": "2025-01-31T20:51:35.770900Z"
    },
    "tags": []
   },
   "outputs": [],
   "source": [
    "products = ...\n",
    "products"
   ]
  },
  {
   "cell_type": "code",
   "execution_count": null,
   "id": "06b9c59c",
   "metadata": {
    "deletable": false,
    "editable": false
   },
   "outputs": [],
   "source": [
    "grader.check(\"q3_3\")"
   ]
  },
  {
   "cell_type": "markdown",
   "id": "d5d78534-acee-46d2-a8df-287aa89fb6c7",
   "metadata": {},
   "source": [
    "## 4. McDonald's Menu Items"
   ]
  },
  {
   "cell_type": "markdown",
   "id": "ebbbd5e5-a701-4eea-83f6-2105d892d051",
   "metadata": {},
   "source": [
    "![](coolmcdonalds.jpg)"
   ]
  },
  {
   "cell_type": "markdown",
   "id": "7b9edc68-c572-4f88-aeea-70b60287399e",
   "metadata": {},
   "source": [
    "McDonald's is recognized as one of the most recognizable and profitable fast-food restaurants in the world. With locations in over 100 countries, there is expected to be close to 44,000 McDonald's restaurants by the end of 2024. At it's inception, in 1940, McDonald's was a bar-b-q restaurant. It later reopened as a self-service drive-in with only nine menu items: hamburger, cheeseburger, soft drinks, milk, coffee, potato chips and a slice of pie. In the upcoming problems we will look at McDonald's menu items as well as their financial statements. "
   ]
  },
  {
   "cell_type": "markdown",
   "id": "0d654dff-c07b-4f4c-93de-609b4858c13a",
   "metadata": {},
   "source": [
    "The cell below loads a table called `menu_info` that includes a range of information about the nutritional value of McDonald's menu items."
   ]
  },
  {
   "cell_type": "code",
   "execution_count": null,
   "id": "ce60f2fa-69e1-457e-b235-0c6dba81cf99",
   "metadata": {
    "execution": {
     "iopub.execute_input": "2025-01-31T20:51:35.783337Z",
     "iopub.status.busy": "2025-01-31T20:51:35.783052Z",
     "iopub.status.idle": "2025-01-31T20:51:35.796722Z",
     "shell.execute_reply": "2025-01-31T20:51:35.795772Z"
    }
   },
   "outputs": [],
   "source": [
    "menu_info = Table.read_table(\"mcdonalds_data.csv\")\n",
    "menu_info"
   ]
  },
  {
   "cell_type": "markdown",
   "id": "c4cf6120-d3a3-48a1-b78d-fa5fa298f4f6",
   "metadata": {
    "deletable": false,
    "editable": false
   },
   "source": [
    "### Question 4.1\n",
    "\n",
    "The cell below selects the column labeled `'calories'` from the `menu_info` Table and assigns it to the array called `item_calories`. This column contains the calories of McDonald's menu items. **Reminder:** Calling `.column(...)` on a table returns an array of the column specified, in this case the `calories` column of the `menu_info` table.\n",
    "\n",
    "Use the `max` function to assign the largest calorie value found in the Table to `highest_calories`."
   ]
  },
  {
   "cell_type": "code",
   "execution_count": null,
   "id": "9c4f9783-7ccf-492e-a763-13f157486181",
   "metadata": {
    "execution": {
     "iopub.execute_input": "2025-01-31T20:51:35.800319Z",
     "iopub.status.busy": "2025-01-31T20:51:35.799995Z",
     "iopub.status.idle": "2025-01-31T20:51:35.807400Z",
     "shell.execute_reply": "2025-01-31T20:51:35.806467Z"
    },
    "tags": []
   },
   "outputs": [],
   "source": [
    "item_calories = menu_info.column('calories')\n",
    "\n",
    "highest_calories = ...\n",
    "highest_calories"
   ]
  },
  {
   "cell_type": "code",
   "execution_count": null,
   "id": "844a3367",
   "metadata": {
    "deletable": false,
    "editable": false
   },
   "outputs": [],
   "source": [
    "grader.check(\"q4_1\")"
   ]
  },
  {
   "cell_type": "markdown",
   "id": "3a0b362b-7f72-416b-9bae-4436a01b1ec0",
   "metadata": {
    "deletable": false,
    "editable": false
   },
   "source": [
    "<!-- BEGIN QUESTION -->\n",
    "\n",
    "### Question 4.2\n",
    "\n",
    "There are several other ways you could have determined the maximum calorie value in the `menu_info` Table without using the `max` function. For example, there's one that uses both the `len(...)` and `.item(...)` functions, and you doesn't have to know the number of elements in `item_calories` to compute the value.\n",
    "\n",
    "First, explain in words how you could use Table methods (for example, `.sort`), in combination with other array functions and methods to compute the maximum number of calories in the Table. Then, create a new code cell and implement your solution using Python code. Your code should be able to work no matter how big or small `item_calories` might be.\n",
    "\n",
    "You can compare to this question to the answer in the previous question."
   ]
  },
  {
   "cell_type": "markdown",
   "id": "29e36af1",
   "metadata": {},
   "source": [
    "_Type your answer here, replacing this text._"
   ]
  },
  {
   "cell_type": "markdown",
   "id": "6f43a4fd-be29-4dd9-98ee-fc1411610ed4",
   "metadata": {
    "deletable": false,
    "editable": false
   },
   "source": [
    "<!-- END QUESTION -->\n",
    "\n",
    "### Question 4.3\n",
    "\n",
    "It is recommended that some people eat 2,500 calories a day. We can see that one could easily exhaust a large percentage of their daily caloric intake on one McDonald's meal. Find the percent of daily caloric intake for each menu item based on a 2,500 calorie diet. Round to two decimal places.  Store the values in the array named, `percent_caloric_intake`."
   ]
  },
  {
   "cell_type": "code",
   "execution_count": null,
   "id": "9ef71acb-48a2-41c4-90f3-ed7c49ea9420",
   "metadata": {
    "execution": {
     "iopub.execute_input": "2025-01-31T20:51:35.844098Z",
     "iopub.status.busy": "2025-01-31T20:51:35.843760Z",
     "iopub.status.idle": "2025-01-31T20:51:35.850616Z",
     "shell.execute_reply": "2025-01-31T20:51:35.849726Z"
    },
    "tags": []
   },
   "outputs": [],
   "source": [
    "percent_caloric_intake = ...\n",
    "percent_caloric_intake"
   ]
  },
  {
   "cell_type": "code",
   "execution_count": null,
   "id": "44ee6574",
   "metadata": {
    "deletable": false,
    "editable": false
   },
   "outputs": [],
   "source": [
    "grader.check(\"q4_3\")"
   ]
  },
  {
   "cell_type": "markdown",
   "id": "5d4f97cf-1ac3-469a-8169-8e498dffa73b",
   "metadata": {
    "deletable": false,
    "editable": false
   },
   "source": [
    "### Question 4.4 \n",
    "\n",
    "Select the column labeled `'totalfat'` from the `menu_info` Table and assign it to the array named `total_fat`. This column describes the total fat, measured in grams, of each McDonald's menu item. Each gram of fat contains 9 calories ([source](https://www.nal.usda.gov/programs/fnic)). \n",
    "\n",
    "Then, compute how many calories of each menu item come from macronutrients that are **not** fat (for example, sugar, protein, and carbohydrates), and assign those values to the array `nonfat_calories`."
   ]
  },
  {
   "cell_type": "code",
   "execution_count": null,
   "id": "53dbfb9a-5a9e-41a6-bbc1-d5efd2796467",
   "metadata": {
    "execution": {
     "iopub.execute_input": "2025-01-31T20:51:35.880288Z",
     "iopub.status.busy": "2025-01-31T20:51:35.879969Z",
     "iopub.status.idle": "2025-01-31T20:51:35.887576Z",
     "shell.execute_reply": "2025-01-31T20:51:35.886366Z"
    },
    "tags": []
   },
   "outputs": [],
   "source": [
    "total_fat = ...\n",
    "\n",
    "nonfat_calories = ...\n",
    "nonfat_calories"
   ]
  },
  {
   "cell_type": "code",
   "execution_count": null,
   "id": "b90650c5",
   "metadata": {
    "deletable": false,
    "editable": false
   },
   "outputs": [],
   "source": [
    "grader.check(\"q4_4\")"
   ]
  },
  {
   "cell_type": "markdown",
   "id": "abc87589-c0ef-4dc6-9302-477ea4bdb0a0",
   "metadata": {},
   "source": [
    "## 5. McDonald's Financial Statements"
   ]
  },
  {
   "cell_type": "markdown",
   "id": "56a2d05e-054c-4cdd-82ce-5ac19ca39dd4",
   "metadata": {},
   "source": [
    "The tests from this point on will **not** necessarily tell you whether or not your answers are correct."
   ]
  },
  {
   "cell_type": "markdown",
   "id": "d0e8888a-2557-46b7-a01a-152c9fff0962",
   "metadata": {},
   "source": [
    "The cell below loads a table of McDonald's financial statements for each year between 2002 and 2022. The data set comes from [Kaggle](https://www.kaggle.com/code/jayrdixit/mc-donalds-finance)."
   ]
  },
  {
   "cell_type": "code",
   "execution_count": null,
   "id": "8ad43bc2-2ac4-482c-b7ca-ce61a934bb58",
   "metadata": {
    "execution": {
     "iopub.execute_input": "2025-01-31T20:51:35.943389Z",
     "iopub.status.busy": "2025-01-31T20:51:35.942486Z",
     "iopub.status.idle": "2025-01-31T20:51:35.954623Z",
     "shell.execute_reply": "2025-01-31T20:51:35.953613Z"
    }
   },
   "outputs": [],
   "source": [
    "mcdonalds_financials = Table.read_table(\"McDonalds_Financial_Statements.csv\")\n",
    "mcdonalds_financials"
   ]
  },
  {
   "cell_type": "markdown",
   "id": "2e2747c6-a43c-4866-b19e-e92e475d45d6",
   "metadata": {},
   "source": [
    "### `numpy` functions\n",
    "\n",
    "In upcoming questions, you will apply some built-in `numpy` functions to this array. `numpy` is a Python module that is often used in Data Science. This homework will use two different `numpy` functions, `np.diff` and `np.cumsum`. **Note:** While used on this homework, these specific functions are not used heavily throughout the course. This set of questions is meant to get you quickly learning and using new functions in your programming, which is something data scientists need to do all the time!"
   ]
  },
  {
   "cell_type": "markdown",
   "id": "7e961a44-0c76-4fcc-a6b6-009fba61c8e1",
   "metadata": {},
   "source": [
    "#### `np.diff`\n",
    "The difference function `np.diff` subtracts each element in an array from the element after it within the array. As a result, the length of the array `np.diff` returns will always be one less than the length of the input array.\n",
    "\n",
    "The diagram below illustrates how this function operates.\n",
    "<img src=\"array_diff.png\" style=\"width: 600px;\"/>"
   ]
  },
  {
   "cell_type": "markdown",
   "id": "c478e5cb-ecb7-4eb6-b81a-a1297172b735",
   "metadata": {},
   "source": [
    "#### `np.cumsum`\n",
    "\n",
    "The **cumulative** sum function `np.cumsum` outputs an array of partial sums. For example, the third element in the output array corresponds to the sum of the first, second, and third elements.\n",
    "\n",
    "The diagram below illustrates how this function operates.\n",
    "\n",
    "<img src=\"array_cumsum.png\" style=\"width: 700px;\"/>"
   ]
  },
  {
   "cell_type": "markdown",
   "id": "38ff3911-5e6a-41a1-bb11-b2e6d5f67cdf",
   "metadata": {
    "deletable": false,
    "editable": false
   },
   "source": [
    "### Question 5.1 \n",
    "\n",
    "The first line below assigns `revenues` to an array of 21 revenues from consecutive years of McDonald's financial statements; specifically, 2002-2022. Assign the names `least`, `greatest`, and `average` so that the `print` statement is correct."
   ]
  },
  {
   "cell_type": "code",
   "execution_count": null,
   "id": "1236b234-3e77-40d9-9fbb-8a0736daf4e0",
   "metadata": {
    "execution": {
     "iopub.execute_input": "2025-01-31T20:51:35.958482Z",
     "iopub.status.busy": "2025-01-31T20:51:35.958162Z",
     "iopub.status.idle": "2025-01-31T20:51:35.967347Z",
     "shell.execute_reply": "2025-01-31T20:51:35.966520Z"
    },
    "tags": []
   },
   "outputs": [],
   "source": [
    "years_revenue = Table.read_table(\"McDonalds_Financial_Statements.csv\").sort(\"Year\").column('Revenue ($B)')\n",
    "\n",
    "least = ...\n",
    "greatest = ...\n",
    "average = ...\n",
    "\n",
    "print(\"McDonald's revenue for 2002 to 2022 is between\", least, \"and\", greatest, \"billion dollars and\", average, \"billion dollars on average.\")"
   ]
  },
  {
   "cell_type": "code",
   "execution_count": null,
   "id": "2ab4eb79",
   "metadata": {
    "deletable": false,
    "editable": false
   },
   "outputs": [],
   "source": [
    "grader.check(\"q5_1\")"
   ]
  },
  {
   "cell_type": "markdown",
   "id": "7276669d-31b9-439c-b1ae-9469d22898d4",
   "metadata": {
    "deletable": false,
    "editable": false
   },
   "source": [
    "### Question 5.2 \n",
    "\n",
    "Assign `biggest_increase` to the biggest increase in revenue between two consecutive years. For example, the second year in the data set has a revenue of 17.14 billion dollars and the third of 19.06  billion dollars, so the increase in revenue was $19.06 - 17.14 = 1.92$ billion dollars, for an increase of 1.92 billion dollars.\n",
    "\n",
    "**Hint:**\n",
    "\n",
    "- You'll need an array arithmetic function [mentioned in the textbook](https://inferentialthinking.com/chapters/05/1/Arrays.html#functions-on-arrays). \n"
   ]
  },
  {
   "cell_type": "code",
   "execution_count": null,
   "id": "6149af93-0f70-4efb-bff9-c3f24c4371fd",
   "metadata": {
    "execution": {
     "iopub.execute_input": "2025-01-31T20:51:36.009556Z",
     "iopub.status.busy": "2025-01-31T20:51:36.009232Z",
     "iopub.status.idle": "2025-01-31T20:51:36.038862Z",
     "shell.execute_reply": "2025-01-31T20:51:36.037956Z"
    },
    "tags": []
   },
   "outputs": [],
   "source": [
    "biggest_increase = ...\n",
    "biggest_increase"
   ]
  },
  {
   "cell_type": "code",
   "execution_count": null,
   "id": "971f5a78",
   "metadata": {
    "deletable": false,
    "editable": false
   },
   "outputs": [],
   "source": [
    "grader.check(\"q5_2\")"
   ]
  },
  {
   "cell_type": "markdown",
   "id": "925c8a12-9fb5-43d9-8f58-6b056c313688",
   "metadata": {
    "deletable": false,
    "editable": false
   },
   "source": [
    "### Question 5.3\n",
    "\n",
    "You determined in an earlier question that the average revenue during this time period was around 22.7 billion dollars. Therefore, you might *expect* the **total cumulative** revenue to be `22.7 * n` billion dollars after `n` years during this 21 year period.\n",
    "\n",
    "Use the `np.arange` function to create an array of values where each element represents the **total cumulative** revenue (in billions of dollars) one would expect McDonald's to have made by the end of each year, for 21 years. Use the assumption that they make 22.7 billion dollars each year. For example, the first element would be 22.7, the second element 45.4, the third 68.1, and so on. Assign to this array of values to `expected_revenue`. You can read about `np.arange` as needed in this [textbook section](https://inferentialthinking.com/chapters/05/2/Ranges.html).\n",
    "\n",
    "Then, determine how the actual total cumulative revenue over the 21 year period compared to what we expected to happen under our assumption. Set `difference_from_expected` to an array of 21 elements, where the element is the absolute difference between the actual cumulative revenue and expected cumulative revenue in that particular year. \n",
    "\n",
    "For example, since the first three revenues are 15.4, 17.14, and 19.06 billion dollars. The total cumulative revenue for 3 years is 15.4 + 17.14 + 19.06 = 51.6. The expected revenue for 3 years is 22.7 * 3 = 68.1. Therefore, `difference_from_expected.item(2)` should be $\\lvert 51.6 - 68.1 \\rvert = 16.5$. \n",
    "\n",
    "**Hint 1**: You'll need to use the `np.cumsum` function to create the array of actual cumulative revenues.\n",
    "\n",
    "**Hint 2**: When using the absolute value function, use `np.abs` instead of `abs`, since `numpy` is already loaded in this notebook, and that's what the autograder is going to use."
   ]
  },
  {
   "cell_type": "code",
   "execution_count": null,
   "id": "b354602e-f999-4091-b0f9-5b5406171a56",
   "metadata": {
    "execution": {
     "iopub.execute_input": "2025-01-31T20:51:36.061071Z",
     "iopub.status.busy": "2025-01-31T20:51:36.060279Z",
     "iopub.status.idle": "2025-01-31T20:51:36.067314Z",
     "shell.execute_reply": "2025-01-31T20:51:36.066411Z"
    },
    "tags": []
   },
   "outputs": [],
   "source": [
    "expected_revenue = ...\n",
    "difference_from_expected = ...\n",
    "difference_from_expected"
   ]
  },
  {
   "cell_type": "code",
   "execution_count": null,
   "id": "b64a7fcb",
   "metadata": {
    "deletable": false,
    "editable": false
   },
   "outputs": [],
   "source": [
    "grader.check(\"q5_3\")"
   ]
  },
  {
   "cell_type": "markdown",
   "id": "d9a930aa-17a4-4e89-a51d-42d2cb5f715c",
   "metadata": {
    "deletable": false,
    "editable": false
   },
   "source": [
    "### Question 5.4\n",
    "\n",
    "Let’s imagine your guess for the next revenue was always just the revenue of the previous year. If you always guessed the previous year's revenue, how big would your error in guessing the revenue be, on average? Compute the value using some `numpy` operations and assign your answer to `average_error`.\n",
    "\n",
    "For example, the first three revenues are 15.4, 17.14, and 19.06. After the first year you guess the next year's revenue will be 15.4 billion dollars, but it is 17.14 billion dollars resulting in an error of $\\lvert 15.4- 17.14 \\rvert$. For the next year you now guess there will be a revenue of 17.14 billion dollars, but there is a revenue of 19.06 billion dollars, so the error is $\\lvert 17.14 - 19.06 \\rvert$. Therefore, the average difference between your guess and the actual revenue for just the second and third years would be $$\\frac{|15.4-17.14|+ |17.14-19.06|}{2} = 1.83$$."
   ]
  },
  {
   "cell_type": "code",
   "execution_count": null,
   "id": "0b7b7e25-b61d-4b39-a3d1-eabe62478f91",
   "metadata": {
    "execution": {
     "iopub.execute_input": "2025-01-31T20:51:36.086373Z",
     "iopub.status.busy": "2025-01-31T20:51:36.086072Z",
     "iopub.status.idle": "2025-01-31T20:51:36.091496Z",
     "shell.execute_reply": "2025-01-31T20:51:36.090743Z"
    },
    "tags": []
   },
   "outputs": [],
   "source": [
    "average_error = ...\n",
    "average_error"
   ]
  },
  {
   "cell_type": "code",
   "execution_count": null,
   "id": "693f41b1",
   "metadata": {
    "deletable": false,
    "editable": false
   },
   "outputs": [],
   "source": [
    "grader.check(\"q5_4\")"
   ]
  },
  {
   "cell_type": "markdown",
   "id": "030e8f23-7679-4c29-8e9c-6caa49d59fe5",
   "metadata": {},
   "source": [
    "## 6. Tables"
   ]
  },
  {
   "cell_type": "markdown",
   "id": "57de299c-ef1e-4bd4-99d8-e5424b7a2689",
   "metadata": {
    "deletable": false,
    "editable": false
   },
   "source": [
    "### Question 6.1 \n",
    "![](fruitstand.png)\n",
    "\n",
    "Suppose you have 4 apples, 3 oranges, and 3 pineapples.  (Perhaps you're using Python to solve a high school Algebra problem.)  Create a table that contains this information.  It should have two columns: `fruit name` and `count`.  Assign the new table to the variable `fruits`.\n",
    "\n",
    "**Note:** Use lower-case and singular words for the name of each fruit, like `\"apple\"`.\n",
    "\n",
    "Your table should look like:\n",
    "\n",
    "| fruit name | count |\n",
    "|------------|-------|\n",
    "| apple      | 4     |\n",
    "| orange     | 3     |\n",
    "| pineapple  | 3     |\n"
   ]
  },
  {
   "cell_type": "code",
   "execution_count": null,
   "id": "d6dff9e5-0815-42ea-bd00-d64cae39238f",
   "metadata": {
    "execution": {
     "iopub.execute_input": "2025-01-31T20:51:36.137012Z",
     "iopub.status.busy": "2025-01-31T20:51:36.136600Z",
     "iopub.status.idle": "2025-01-31T20:51:36.142600Z",
     "shell.execute_reply": "2025-01-31T20:51:36.141857Z"
    },
    "tags": []
   },
   "outputs": [],
   "source": [
    "# Our solution uses 1 statement split over 3 lines. \n",
    "# You can write yours on 1 line if you wish.\n",
    "fruits = ...\n",
    "    ...\n",
    "    ...\n",
    "fruits"
   ]
  },
  {
   "cell_type": "code",
   "execution_count": null,
   "id": "33cb43e0",
   "metadata": {
    "deletable": false,
    "editable": false
   },
   "outputs": [],
   "source": [
    "grader.check(\"q6_1\")"
   ]
  },
  {
   "cell_type": "markdown",
   "id": "63e78829-ebaf-4c97-aff4-635d74d24f34",
   "metadata": {
    "deletable": false,
    "editable": false
   },
   "source": [
    "### Question 6.2\n",
    "\n",
    "The file `inventory.csv` contains information about the inventory at a fruit stand.  Each row represents the contents of one box of fruit. Load it as a table named `inventory` using the `Table.read_table()` function. `Table.read_table(...)` takes one argument (data file name in string format) and returns a table."
   ]
  },
  {
   "cell_type": "code",
   "execution_count": null,
   "id": "758e2024-c7ea-4893-ab83-600bcbd7f99f",
   "metadata": {
    "execution": {
     "iopub.execute_input": "2025-01-31T20:51:36.180284Z",
     "iopub.status.busy": "2025-01-31T20:51:36.179832Z",
     "iopub.status.idle": "2025-01-31T20:51:36.189467Z",
     "shell.execute_reply": "2025-01-31T20:51:36.188555Z"
    },
    "tags": []
   },
   "outputs": [],
   "source": [
    "inventory = ...\n",
    "inventory"
   ]
  },
  {
   "cell_type": "code",
   "execution_count": null,
   "id": "23208a24",
   "metadata": {
    "deletable": false,
    "editable": false
   },
   "outputs": [],
   "source": [
    "grader.check(\"q6_2\")"
   ]
  },
  {
   "cell_type": "markdown",
   "id": "7baa58d6-802c-4c31-a1d4-117a8f136bdf",
   "metadata": {
    "deletable": false,
    "editable": false
   },
   "source": [
    "### Question 6.3 \n",
    "\n",
    "The file `sales.csv` contains the number of fruit sold from each box last Saturday.  It has an extra column called \"price per fruit (\\$)\" that's the price *per item of fruit* for fruit in that box.  The rows are in the same order as the `inventory` table.  \n",
    "\n",
    "Load these data into a table called `sales`."
   ]
  },
  {
   "cell_type": "code",
   "execution_count": null,
   "id": "8e688ebb-fd91-4624-8007-a61ef2d167c4",
   "metadata": {
    "execution": {
     "iopub.execute_input": "2025-01-31T20:51:36.203021Z",
     "iopub.status.busy": "2025-01-31T20:51:36.202654Z",
     "iopub.status.idle": "2025-01-31T20:51:36.235391Z",
     "shell.execute_reply": "2025-01-31T20:51:36.212090Z"
    },
    "tags": []
   },
   "outputs": [],
   "source": [
    "sales = ...\n",
    "sales"
   ]
  },
  {
   "cell_type": "code",
   "execution_count": null,
   "id": "f0b93996",
   "metadata": {
    "deletable": false,
    "editable": false
   },
   "outputs": [],
   "source": [
    "grader.check(\"q6_3\")"
   ]
  },
  {
   "cell_type": "markdown",
   "id": "94a212ff-f1f3-459a-b741-b8c2bd0ba65f",
   "metadata": {
    "deletable": false,
    "editable": false
   },
   "source": [
    "### Question 6.4 \n",
    "\n",
    "How many fruits did the store sell in total on that day?"
   ]
  },
  {
   "cell_type": "code",
   "execution_count": null,
   "id": "a4e2e81d-5e4e-446c-abd5-2ed30a5ee326",
   "metadata": {
    "execution": {
     "iopub.execute_input": "2025-01-31T20:51:36.249476Z",
     "iopub.status.busy": "2025-01-31T20:51:36.249174Z",
     "iopub.status.idle": "2025-01-31T20:51:36.254558Z",
     "shell.execute_reply": "2025-01-31T20:51:36.253666Z"
    },
    "tags": []
   },
   "outputs": [],
   "source": [
    "total_fruits_sold = ...\n",
    "total_fruits_sold"
   ]
  },
  {
   "cell_type": "code",
   "execution_count": null,
   "id": "957df4b1",
   "metadata": {
    "deletable": false,
    "editable": false
   },
   "outputs": [],
   "source": [
    "grader.check(\"q6_4\")"
   ]
  },
  {
   "cell_type": "markdown",
   "id": "849a0b9d-8ddf-4957-a890-b6e628e585ef",
   "metadata": {
    "deletable": false,
    "editable": false
   },
   "source": [
    "### Question 6.5\n",
    "\n",
    "What was the store's total revenue (the total price of all fruits sold) on that day?\n",
    "\n",
    "**Hint:** If you're stuck, think first about how you would compute the total revenue from just the grape sales."
   ]
  },
  {
   "cell_type": "code",
   "execution_count": null,
   "id": "2ecb3681-a614-48cc-8d09-76d4d509d71e",
   "metadata": {
    "execution": {
     "iopub.execute_input": "2025-01-31T20:51:36.283658Z",
     "iopub.status.busy": "2025-01-31T20:51:36.283261Z",
     "iopub.status.idle": "2025-01-31T20:51:36.290325Z",
     "shell.execute_reply": "2025-01-31T20:51:36.289559Z"
    },
    "tags": []
   },
   "outputs": [],
   "source": [
    "total_revenue = ...\n",
    "total_revenue"
   ]
  },
  {
   "cell_type": "code",
   "execution_count": null,
   "id": "5498c90f",
   "metadata": {
    "deletable": false,
    "editable": false
   },
   "outputs": [],
   "source": [
    "grader.check(\"q6_5\")"
   ]
  },
  {
   "cell_type": "markdown",
   "id": "00ceaeb6-f069-4ae2-9297-1d2ab3587999",
   "metadata": {
    "deletable": false,
    "editable": false
   },
   "source": [
    "### Question 6.6\n",
    "\n",
    "Make a new table called `remaining_inventory`.  It should have the same rows and columns as `inventory`, except that the amount of fruit sold from each box should be subtracted from that box's **original** count, so that the `count` column is **updated to be** the amount of fruit remaining after Saturday. \n",
    "\n",
    "The provided solution spans multiple lines, but you can write yours on a single line if you prefer."
   ]
  },
  {
   "cell_type": "code",
   "execution_count": null,
   "id": "86cadcff-9d69-4b4c-b81e-1948ae126210",
   "metadata": {
    "execution": {
     "iopub.execute_input": "2025-01-31T20:51:36.310406Z",
     "iopub.status.busy": "2025-01-31T20:51:36.310098Z",
     "iopub.status.idle": "2025-01-31T20:51:36.342069Z",
     "shell.execute_reply": "2025-01-31T20:51:36.340793Z"
    },
    "tags": []
   },
   "outputs": [],
   "source": [
    "remaining_inventory = ...\n",
    "    ...\n",
    "    ...\n",
    "    ...\n",
    "remaining_inventory"
   ]
  },
  {
   "cell_type": "code",
   "execution_count": null,
   "id": "37793bb4",
   "metadata": {
    "deletable": false,
    "editable": false
   },
   "outputs": [],
   "source": [
    "grader.check(\"q6_6\")"
   ]
  },
  {
   "cell_type": "markdown",
   "id": "b5d01540-f767-4a49-88bb-7f8fd2455de9",
   "metadata": {},
   "source": [
    "# Submitting your work\n",
    "You're done with this assignment! Assignments should be turned in using the following best practices:\n",
    "1. Save your notebook.\n",
    "2. Restart the kernel and run all cells up to this one.\n",
    "3. Run the cell below with the code `grader.export(...)`. This will re-run all the tests. Make sure they are passing as you expect them to.\n",
    "4. Download the file named `hw02_<date-time-stamp>.zip`, found in the explorer pane on the left side of the screen. **Note**: Clicking on the link in this notebook may result in an error, it's best to download from the file explorer panel.\n",
    "5. Upload `hw02_<date-time-stamp>.zip` to the corresponding assignment on Canvas."
   ]
  },
  {
   "cell_type": "markdown",
   "id": "9bfa4da6",
   "metadata": {
    "deletable": false,
    "editable": false
   },
   "source": [
    "## Submission\n",
    "\n",
    "Make sure you have run all cells in your notebook in order before running the cell below, so that all images/graphs appear in the output. The cell below will generate a zip file for you to submit."
   ]
  },
  {
   "cell_type": "code",
   "execution_count": null,
   "id": "a81fe9ab",
   "metadata": {
    "deletable": false,
    "editable": false
   },
   "outputs": [],
   "source": [
    "grader.export(pdf=False, force_save=True)"
   ]
  },
  {
   "cell_type": "markdown",
   "id": "2ff20d2f",
   "metadata": {},
   "source": [
    " "
   ]
  }
 ],
 "metadata": {
  "kernelspec": {
   "display_name": "Python 3 (ipykernel)",
   "language": "python",
   "name": "python3"
  },
  "language_info": {
   "codemirror_mode": {
    "name": "ipython",
    "version": 3
   },
   "file_extension": ".py",
   "mimetype": "text/x-python",
   "name": "python",
   "nbconvert_exporter": "python",
   "pygments_lexer": "ipython3",
   "version": "3.12.8"
  },
  "otter": {
   "OK_FORMAT": true,
   "tests": {
    "q1_1": {
     "name": "q1_1",
     "points": null,
     "suites": [
      {
       "cases": [
        {
         "code": ">>> isinstance(rainbow, np.ndarray)\nTrue",
         "failure_message": "❌ You did not create an array. Perhaps you created a list or another type of collection?",
         "hidden": false,
         "locked": false,
         "points": 0,
         "success_message": "✅ You successfully created an array."
        },
        {
         "code": ">>> not any([',' in text for text in rainbow])\nTrue",
         "failure_message": "❌ You included commas inside some of the strings. Commas are used to seperate individual strings, but are not between the quotes.",
         "hidden": false,
         "locked": false,
         "points": 0
        },
        {
         "code": ">>> 'and ' in rainbow.item(6)\nTrue",
         "failure_message": "❌ Your last string does not contain the substring `and `",
         "hidden": false,
         "locked": false,
         "points": 0.25,
         "success_message": "✅ The last string contains the substring `and `"
        },
        {
         "code": ">>> len(rainbow) == 7\nTrue",
         "failure_message": "❌ The array named rainbow does not have 7 elements",
         "hidden": false,
         "locked": false,
         "points": 0.25,
         "success_message": "✅ The array named rainbow has 7 elements"
        }
       ],
       "scored": true,
       "setup": "",
       "teardown": "",
       "type": "doctest"
      }
     ]
    },
    "q1_2": {
     "name": "q1_2",
     "points": null,
     "suites": [
      {
       "cases": [
        {
         "code": ">>> isinstance(just_numbers, np.ndarray)\nTrue",
         "failure_message": "❌ You did not create an array. Perhaps you created a list or another type of collection?",
         "hidden": false,
         "locked": false,
         "points": 0.25,
         "success_message": "✅ You successfully created an array."
        },
        {
         "code": ">>> len(just_numbers)\n4",
         "failure_message": "❌ Your array does not have the correct number of elements in it.",
         "hidden": false,
         "locked": false,
         "points": 0.25,
         "success_message": "✅ Your array has the correct number of elements in it."
        }
       ],
       "scored": true,
       "setup": "",
       "teardown": "",
       "type": "doctest"
      }
     ]
    },
    "q1_3": {
     "name": "q1_3",
     "points": null,
     "suites": [
      {
       "cases": [
        {
         "code": ">>> ',' in with_commas\nTrue",
         "failure_message": "❌ The string `with_commas` does not have any commas in it",
         "hidden": false,
         "locked": false,
         "points": 0,
         "success_message": "✅ The string `with_commas` has at least one comma in it"
        },
        {
         "code": ">>> ',' not in without_commas\nTrue",
         "failure_message": "❌ The string `without_commas` has at least one comma in it",
         "hidden": false,
         "locked": false,
         "points": 0,
         "success_message": "✅ The string `without_commas` does not have any commas in it"
        },
        {
         "code": ">>> len(with_commas)\n52",
         "failure_message": "❌ The string `with_commas` is not the correct length",
         "hidden": false,
         "locked": false,
         "points": 0,
         "success_message": "✅ The string `with_commas` is the correct length"
        },
        {
         "code": ">>> len(without_commas)\n46",
         "failure_message": "❌ The string `without_commas` is not the correct length",
         "hidden": false,
         "locked": false,
         "points": 0,
         "success_message": "✅ The string `without_commas` is the correct length"
        }
       ],
       "scored": true,
       "setup": "",
       "teardown": "",
       "type": "doctest"
      }
     ]
    },
    "q2_1": {
     "name": "q2_1",
     "points": null,
     "suites": [
      {
       "cases": [
        {
         "code": ">>> np.array_equal(some_integers, np.array([14, -3, -10, 27, 46]))\nTrue",
         "failure_message": "❌ You did not sucessfully create the `some_integers` array",
         "hidden": false,
         "locked": false,
         "points": 0,
         "success_message": "✅ You sucessfully created the `some_integers` array"
        },
        {
         "code": ">>> second_element in some_integers\nTrue",
         "failure_message": "❌ The number you assigned to `second_element` is not from the array `some_numbers`",
         "hidden": false,
         "locked": false,
         "points": 0.25,
         "success_message": "✅ The number you assigned to `second_element` is from the array `some_numbers`"
        },
        {
         "code": ">>> second_element != -10\nTrue",
         "failure_message": "❌ You incorrectly selected the element at index 2. This is the fourth element of the array.",
         "hidden": false,
         "locked": false,
         "points": 0.25
        }
       ],
       "scored": true,
       "setup": "",
       "teardown": "",
       "type": "doctest"
      }
     ]
    },
    "q2_2": {
     "name": "q2_2",
     "points": null,
     "suites": [
      {
       "cases": [
        {
         "code": ">>> elements_of_some_integers.column(0).item(2)\n'third'",
         "failure_message": "❌ `blank_a` is incorrect. Check your answer and the spelling. There should be no Punctuation or spaces.",
         "hidden": false,
         "locked": false,
         "points": 0.25,
         "success_message": "✅ `blank_a` is correct"
        },
        {
         "code": ">>> elements_of_some_integers.column(0).item(3)\n'fourth'",
         "failure_message": "❌ `blank_b` is incorrect. Check your answer and the spelling. There should be no Punctuation or spaces.",
         "hidden": false,
         "locked": false,
         "points": 0.25,
         "success_message": "✅ `blank_b` is correct"
        },
        {
         "code": ">>> elements_of_some_integers.column(1).item(0)\n0",
         "failure_message": "❌ `blank_c` is incorrect. Check your answer and the spelling. There should be no Punctuation or spaces.",
         "hidden": false,
         "locked": false,
         "points": 0.25,
         "success_message": "✅ `blank_c` is correct"
        },
        {
         "code": ">>> elements_of_some_integers.column(1).item(3)\n3",
         "failure_message": "❌ `blank_d` is incorrect. Check your answer and the spelling. There should be no Punctuation or spaces.",
         "hidden": false,
         "locked": false,
         "points": 0.25,
         "success_message": "✅ `blank_d` is correct"
        }
       ],
       "scored": true,
       "setup": "",
       "teardown": "",
       "type": "doctest"
      }
     ]
    },
    "q2_3": {
     "name": "q2_3",
     "points": null,
     "suites": [
      {
       "cases": [
        {
         "code": ">>> index_of_last_element\n1023",
         "failure_message": "❌ You incorrectly determined the index. Don't forget, indexing starts at 0.",
         "hidden": false,
         "locked": false,
         "points": 1,
         "success_message": "✅ You correctly determined the index"
        }
       ],
       "scored": true,
       "setup": "",
       "teardown": "",
       "type": "doctest"
      }
     ]
    },
    "q3_1": {
     "name": "q3_1",
     "points": null,
     "suites": [
      {
       "cases": [
        {
         "code": ">>> first_quotient\n1.8666666666666667",
         "failure_message": "❌ You incorrectly computed `first_quotient`. Double check you've typed the numbers correctly!",
         "hidden": false,
         "locked": false,
         "points": 0.25,
         "success_message": "✅ You correctly computed `first_quotient`."
        },
        {
         "code": ">>> second_quotient\n-192.13333333333333",
         "failure_message": "❌ You incorrectly computed `second_quotient`. Double check you've typed the numbers correctly!",
         "hidden": false,
         "locked": false,
         "points": 0.25,
         "success_message": "✅ You correctly computed `second_quotient`."
        },
        {
         "code": ">>> third_quotient\n188549495.2",
         "failure_message": "❌ You incorrectly computed `third_quotient`. Double check you've typed the numbers correctly!",
         "hidden": false,
         "locked": false,
         "points": 0.25,
         "success_message": "✅ You correctly computed `third_quotient`."
        },
        {
         "code": ">>> fourth_quotient\n25.333333333333332",
         "failure_message": "❌ You incorrectly computed `fourth_quotient`. Double check you've typed the numbers correctly!",
         "hidden": false,
         "locked": false,
         "points": 0.25,
         "success_message": "✅ You correctly computed `fourth_quotient`."
        }
       ],
       "scored": true,
       "setup": "",
       "teardown": "",
       "type": "doctest"
      }
     ]
    },
    "q3_2": {
     "name": "q3_2",
     "points": null,
     "suites": [
      {
       "cases": [
        {
         "code": ">>> np.array_equal(numbers, np.array([28, -2882, 2828242428, 380]))\nTrue",
         "failure_message": "❌ You did not create the `numbers` array. Perhaps you created a list or another type of collection?",
         "hidden": false,
         "locked": false,
         "points": 0.25,
         "success_message": "✅ You successfully created the `numbers` array."
        },
        {
         "code": ">>> type(quotients) == np.ndarray\nTrue",
         "failure_message": "❌ You did not create an array named `quotients`. Perhaps you created a list or another type of collection?",
         "hidden": false,
         "locked": false,
         "points": 0.25,
         "success_message": "✅ You successfully created an array named `quotients`."
        }
       ],
       "scored": true,
       "setup": "",
       "teardown": "",
       "type": "doctest"
      }
     ]
    },
    "q3_3": {
     "name": "q3_3",
     "points": null,
     "suites": [
      {
       "cases": [
        {
         "code": ">>> np.allclose(products, np.array([420, -43230, 42423636420, 5700]))\nTrue",
         "failure_message": "❌ Your array does not contain the correct elements, or they are in an incorrect position.",
         "hidden": false,
         "locked": false,
         "points": 1,
         "success_message": "✅ Your array has the correct elements in it."
        }
       ],
       "scored": true,
       "setup": "",
       "teardown": "",
       "type": "doctest"
      }
     ]
    },
    "q4_1": {
     "name": "q4_1",
     "points": null,
     "suites": [
      {
       "cases": [
        {
         "code": ">>> highest_calories\n834.36000000000001",
         "failure_message": "❌ You did not find the menu item with the highest number of calories",
         "hidden": false,
         "locked": false,
         "points": 1,
         "success_message": "✅ You correctly found the menu item with the highest number of calories"
        }
       ],
       "scored": true,
       "setup": "",
       "teardown": "",
       "type": "doctest"
      }
     ]
    },
    "q4_3": {
     "name": "q4_3",
     "points": null,
     "suites": [
      {
       "cases": [
        {
         "code": ">>> len(percent_caloric_intake)\n141",
         "failure_message": "❌ Your array has an incorrect number of etnries",
         "hidden": false,
         "locked": false,
         "points": 0.25,
         "success_message": "✅ Your array has the correct number of entries"
        },
        {
         "code": ">>> percent_caloric_intake.item(25)\n16.44",
         "failure_message": "❌ At least one element of your array is incorrect",
         "hidden": false,
         "locked": false,
         "points": 0.25,
         "success_message": "✅ At least one element of your array is correct"
        },
        {
         "code": ">>> np.round(sum(percent_caloric_intake)) == 1367.0 and np.round(np.std(percent_caloric_intake)) == 7.0\nTrue",
         "failure_message": "❌ Your array doesn't appear to contain the correct elements",
         "hidden": false,
         "locked": false,
         "points": 0.5,
         "success_message": "✅ Your array contains the correct elements"
        }
       ],
       "scored": true,
       "setup": "",
       "teardown": "",
       "type": "doctest"
      }
     ]
    },
    "q4_4": {
     "name": "q4_4",
     "points": null,
     "suites": [
      {
       "cases": [
        {
         "code": ">>> len(nonfat_calories)\n141",
         "failure_message": "❌ Your array has an incorrect number of etnries",
         "hidden": false,
         "locked": false,
         "points": 0.25,
         "success_message": "✅ Your array has the correct number of entries"
        },
        {
         "code": ">>> nonfat_calories.item(0)\n277.53",
         "failure_message": "❌ The first element of your array is incorrect",
         "hidden": false,
         "locked": false,
         "points": 0.25,
         "success_message": "✅ The first element of your array is correct"
        },
        {
         "code": ">>> np.round(sum(nonfat_calories), 0) == 21411.0 and np.round(np.std(nonfat_calories), 0) == 108.0\nTrue",
         "failure_message": "❌ Your array doesn't appear to contain the correct elements",
         "hidden": false,
         "locked": false,
         "points": 0.5,
         "success_message": "✅ Your array contains the correct elements"
        }
       ],
       "scored": true,
       "setup": "",
       "teardown": "",
       "type": "doctest"
      }
     ]
    },
    "q5_1": {
     "name": "q5_1",
     "points": null,
     "suites": [
      {
       "cases": [
        {
         "code": ">>> least <= average <= greatest\nTrue",
         "failure_message": "❌ The values you computed aren't ordered correctly",
         "hidden": false,
         "locked": false,
         "points": 0.25,
         "success_message": "✅ least <= average <= greatest"
        }
       ],
       "scored": true,
       "setup": "",
       "teardown": "",
       "type": "doctest"
      }
     ]
    },
    "q5_2": {
     "name": "q5_2",
     "points": null,
     "suites": [
      {
       "cases": [
        {
         "code": ">>> 3 <= biggest_increase < 5\nTrue",
         "failure_message": "❌ `biggest_increase` is not close to the correct answer",
         "hidden": false,
         "locked": false,
         "points": 0.25,
         "success_message": "✅ `biggest_increase` is at least in the ballpark"
        }
       ],
       "scored": true,
       "setup": "",
       "teardown": "",
       "type": "doctest"
      }
     ]
    },
    "q5_3": {
     "name": "q5_3",
     "points": null,
     "suites": [
      {
       "cases": [
        {
         "code": ">>> len(difference_from_expected)\n21",
         "failure_message": "❌ `difference_from_expected` doesn't have the correct number of elements",
         "hidden": false,
         "locked": false,
         "points": 0.25,
         "success_message": "✅ `difference_from_expected` has the correct number of elements"
        }
       ],
       "scored": true,
       "setup": "",
       "teardown": "",
       "type": "doctest"
      }
     ]
    },
    "q5_4": {
     "name": "q5_4",
     "points": null,
     "suites": [
      {
       "cases": [
        {
         "code": ">>> 1 <= average_error <= 3\nTrue",
         "failure_message": "❌ `average_error` is not close to the correct answer",
         "hidden": false,
         "locked": false,
         "points": 0.25,
         "success_message": "✅ `average_error` is at least in the ballpark"
        }
       ],
       "scored": true,
       "setup": "",
       "teardown": "",
       "type": "doctest"
      }
     ]
    },
    "q6_1": {
     "name": "q6_1",
     "points": null,
     "suites": [
      {
       "cases": [
        {
         "code": ">>> type(fruits) == Table\nTrue",
         "failure_message": "❌ You did not create a Table object",
         "hidden": false,
         "locked": false,
         "points": 0,
         "success_message": "✅ You created a Table and assigned it to `fruits`"
        },
        {
         "code": ">>> fruits.labels == ('fruit name', 'count')\nTrue",
         "failure_message": "❌ Your Table has incorrect column labels or they are in the incorrect order",
         "hidden": false,
         "locked": false,
         "points": 0,
         "success_message": "✅ Your Table has the correct column labels in the correct order"
        }
       ],
       "scored": true,
       "setup": "",
       "teardown": "",
       "type": "doctest"
      }
     ]
    },
    "q6_2": {
     "name": "q6_2",
     "points": null,
     "suites": [
      {
       "cases": [
        {
         "code": ">>> inventory.sort(0)\nbox ID | fruit name | count\n25274  | apple      | 20\n26187  | strawberry | 255\n43566  | peach      | 40\n48800  | orange     | 35\n52357  | strawberry | 102\n53686  | kiwi       | 45\n57181  | strawberry | 123\n57930  | grape      | 517",
         "failure_message": "❌ You did not correctly load `inventory.csv`",
         "hidden": false,
         "locked": false,
         "points": 1,
         "success_message": "✅ You loaded `inventory.csv` correctly"
        }
       ],
       "scored": true,
       "setup": "",
       "teardown": "",
       "type": "doctest"
      }
     ]
    },
    "q6_3": {
     "name": "q6_3",
     "points": null,
     "suites": [
      {
       "cases": [
        {
         "code": ">>> sales.sort(0)\nbox ID | fruit name | count sold | price per fruit ($)\n25274  | apple      | 0          | 0.8\n26187  | strawberry | 25         | 0.15\n43566  | peach      | 17         | 0.8\n48800  | orange     | 35         | 0.6\n52357  | strawberry | 102        | 0.25\n53686  | kiwi       | 3          | 0.5\n57181  | strawberry | 101        | 0.2\n57930  | grape      | 355        | 0.06",
         "failure_message": "❌ You did not correctly load `sales.csv`",
         "hidden": false,
         "locked": false,
         "points": 1,
         "success_message": "✅ You loaded `sales.csv` correctly"
        }
       ],
       "scored": true,
       "setup": "",
       "teardown": "",
       "type": "doctest"
      }
     ]
    },
    "q6_4": {
     "name": "q6_4",
     "points": null,
     "suites": [
      {
       "cases": [
        {
         "code": ">>> type(total_fruits_sold) == np.int64 or type(total_fruits_sold) == int\nTrue",
         "failure_message": "❌ Your answer should be an integer",
         "hidden": false,
         "locked": false,
         "points": 0,
         "success_message": "✅ You provided an integer answer"
        },
        {
         "code": ">>> total_fruits_sold > 500\nTrue",
         "failure_message": "❌ Your number is not large enough to be the total number of pieces of fruits sold",
         "hidden": false,
         "locked": false,
         "points": 0.25,
         "success_message": "✅ Your number is large enough to be reasonable as an answer"
        }
       ],
       "scored": true,
       "setup": "",
       "teardown": "",
       "type": "doctest"
      }
     ]
    },
    "q6_5": {
     "name": "q6_5",
     "points": null,
     "suites": [
      {
       "cases": [
        {
         "code": ">>> 50 <= total_revenue <= 150\nTrue",
         "failure_message": "❌ If you're stuck, here's a hint. You want to multiply the count sold in each box by the per-item price of fruits in that box, and then sum up each product.",
         "hidden": false,
         "locked": false,
         "points": 0.25,
         "success_message": "✅ Your number is between 50 and 150 dollars, which means it is a reasonable answer"
        }
       ],
       "scored": true,
       "setup": "",
       "teardown": "",
       "type": "doctest"
      }
     ]
    },
    "q6_6": {
     "name": "q6_6",
     "points": null,
     "suites": [
      {
       "cases": [
        {
         "code": ">>> remaining_inventory.num_columns\n3",
         "failure_message": "❌ Your table doesn't have all 3 columns",
         "hidden": false,
         "locked": false,
         "points": 0.25,
         "success_message": "✅ Your table has the correct number of columns"
        },
        {
         "code": ">>> remaining_inventory.column('count').item(0) != 45\nTrue",
         "failure_message": "❌ You forgot to subtract off the sales",
         "hidden": false,
         "locked": false,
         "points": 0.25,
         "success_message": "✅ You remembered to subtract off the sales"
        },
        {
         "code": ">>> np.array_equal(remaining_inventory.sort(0).column('fruit name'), ['apple', 'strawberry', 'peach', 'orange', 'strawberry', 'kiwi', 'strawberry', 'grape'])\nTrue",
         "failure_message": "❌ You forgot to subtract off the sales",
         "hidden": false,
         "locked": false,
         "points": 0.5
        }
       ],
       "scored": true,
       "setup": "",
       "teardown": "",
       "type": "doctest"
      }
     ]
    }
   }
  }
 },
 "nbformat": 4,
 "nbformat_minor": 5
}
